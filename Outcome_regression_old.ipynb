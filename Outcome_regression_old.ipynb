{
 "cells": [
  {
   "cell_type": "code",
   "execution_count": 1,
   "id": "5563f26c",
   "metadata": {},
   "outputs": [],
   "source": [
    "import pandas as pd\n",
    "import numpy as np\n",
    "import warnings\n",
    "warnings.filterwarnings('ignore')"
   ]
  },
  {
   "cell_type": "code",
   "execution_count": 2,
   "id": "d4d8a4d4",
   "metadata": {},
   "outputs": [],
   "source": [
    "df_raw = pd.read_csv('./stroke_data_dummies.csv')"
   ]
  },
  {
   "cell_type": "code",
   "execution_count": 3,
   "id": "bb60236f",
   "metadata": {},
   "outputs": [],
   "source": [
    "df_r = df_raw[df_raw.Gender_Other == 0]"
   ]
  },
  {
   "cell_type": "code",
   "execution_count": 4,
   "id": "7528bcb8",
   "metadata": {},
   "outputs": [],
   "source": [
    "def age_check(x):\n",
    "    if x >= 45:\n",
    "        return 1\n",
    "    else:\n",
    "        return 0\n",
    "    \n",
    "df_r['old'] = df_r.age.apply(age_check)"
   ]
  },
  {
   "cell_type": "code",
   "execution_count": 5,
   "id": "d940fa27",
   "metadata": {},
   "outputs": [],
   "source": [
    "df = df_r.drop(columns = ['Unnamed: 0','id','Obesity','Gender_Other','age'])"
   ]
  },
  {
   "cell_type": "code",
   "execution_count": 6,
   "id": "0e652b83",
   "metadata": {},
   "outputs": [
    {
     "data": {
      "text/html": [
       "<div>\n",
       "<style scoped>\n",
       "    .dataframe tbody tr th:only-of-type {\n",
       "        vertical-align: middle;\n",
       "    }\n",
       "\n",
       "    .dataframe tbody tr th {\n",
       "        vertical-align: top;\n",
       "    }\n",
       "\n",
       "    .dataframe thead th {\n",
       "        text-align: right;\n",
       "    }\n",
       "</style>\n",
       "<table border=\"1\" class=\"dataframe\">\n",
       "  <thead>\n",
       "    <tr style=\"text-align: right;\">\n",
       "      <th></th>\n",
       "      <th>hypertension</th>\n",
       "      <th>heart_disease</th>\n",
       "      <th>avg_glucose_level</th>\n",
       "      <th>bmi</th>\n",
       "      <th>stroke</th>\n",
       "      <th>marriage</th>\n",
       "      <th>Gender_Female</th>\n",
       "      <th>Gender_Male</th>\n",
       "      <th>Work_Govt_job</th>\n",
       "      <th>Work_Never_worked</th>\n",
       "      <th>Work_Private</th>\n",
       "      <th>Work_Self-employed</th>\n",
       "      <th>Work_children</th>\n",
       "      <th>smoking_Unknown</th>\n",
       "      <th>smoking_formerly smoked</th>\n",
       "      <th>smoking_never smoked</th>\n",
       "      <th>smoking_smokes</th>\n",
       "      <th>Residence_Rural</th>\n",
       "      <th>Residence_Urban</th>\n",
       "      <th>old</th>\n",
       "    </tr>\n",
       "  </thead>\n",
       "  <tbody>\n",
       "    <tr>\n",
       "      <th>0</th>\n",
       "      <td>0</td>\n",
       "      <td>1</td>\n",
       "      <td>228.69</td>\n",
       "      <td>36.6</td>\n",
       "      <td>1</td>\n",
       "      <td>1</td>\n",
       "      <td>0</td>\n",
       "      <td>1</td>\n",
       "      <td>0</td>\n",
       "      <td>0</td>\n",
       "      <td>1</td>\n",
       "      <td>0</td>\n",
       "      <td>0</td>\n",
       "      <td>0</td>\n",
       "      <td>1</td>\n",
       "      <td>0</td>\n",
       "      <td>0</td>\n",
       "      <td>0</td>\n",
       "      <td>1</td>\n",
       "      <td>1</td>\n",
       "    </tr>\n",
       "    <tr>\n",
       "      <th>1</th>\n",
       "      <td>0</td>\n",
       "      <td>1</td>\n",
       "      <td>105.92</td>\n",
       "      <td>32.5</td>\n",
       "      <td>1</td>\n",
       "      <td>1</td>\n",
       "      <td>0</td>\n",
       "      <td>1</td>\n",
       "      <td>0</td>\n",
       "      <td>0</td>\n",
       "      <td>1</td>\n",
       "      <td>0</td>\n",
       "      <td>0</td>\n",
       "      <td>0</td>\n",
       "      <td>0</td>\n",
       "      <td>1</td>\n",
       "      <td>0</td>\n",
       "      <td>1</td>\n",
       "      <td>0</td>\n",
       "      <td>1</td>\n",
       "    </tr>\n",
       "    <tr>\n",
       "      <th>2</th>\n",
       "      <td>0</td>\n",
       "      <td>0</td>\n",
       "      <td>171.23</td>\n",
       "      <td>34.4</td>\n",
       "      <td>1</td>\n",
       "      <td>1</td>\n",
       "      <td>1</td>\n",
       "      <td>0</td>\n",
       "      <td>0</td>\n",
       "      <td>0</td>\n",
       "      <td>1</td>\n",
       "      <td>0</td>\n",
       "      <td>0</td>\n",
       "      <td>0</td>\n",
       "      <td>0</td>\n",
       "      <td>0</td>\n",
       "      <td>1</td>\n",
       "      <td>0</td>\n",
       "      <td>1</td>\n",
       "      <td>1</td>\n",
       "    </tr>\n",
       "    <tr>\n",
       "      <th>3</th>\n",
       "      <td>1</td>\n",
       "      <td>0</td>\n",
       "      <td>174.12</td>\n",
       "      <td>24.0</td>\n",
       "      <td>1</td>\n",
       "      <td>1</td>\n",
       "      <td>1</td>\n",
       "      <td>0</td>\n",
       "      <td>0</td>\n",
       "      <td>0</td>\n",
       "      <td>0</td>\n",
       "      <td>1</td>\n",
       "      <td>0</td>\n",
       "      <td>0</td>\n",
       "      <td>0</td>\n",
       "      <td>1</td>\n",
       "      <td>0</td>\n",
       "      <td>1</td>\n",
       "      <td>0</td>\n",
       "      <td>1</td>\n",
       "    </tr>\n",
       "    <tr>\n",
       "      <th>4</th>\n",
       "      <td>0</td>\n",
       "      <td>0</td>\n",
       "      <td>186.21</td>\n",
       "      <td>29.0</td>\n",
       "      <td>1</td>\n",
       "      <td>1</td>\n",
       "      <td>0</td>\n",
       "      <td>1</td>\n",
       "      <td>0</td>\n",
       "      <td>0</td>\n",
       "      <td>1</td>\n",
       "      <td>0</td>\n",
       "      <td>0</td>\n",
       "      <td>0</td>\n",
       "      <td>1</td>\n",
       "      <td>0</td>\n",
       "      <td>0</td>\n",
       "      <td>0</td>\n",
       "      <td>1</td>\n",
       "      <td>1</td>\n",
       "    </tr>\n",
       "  </tbody>\n",
       "</table>\n",
       "</div>"
      ],
      "text/plain": [
       "   hypertension  heart_disease  avg_glucose_level   bmi  stroke  marriage  \\\n",
       "0             0              1             228.69  36.6       1         1   \n",
       "1             0              1             105.92  32.5       1         1   \n",
       "2             0              0             171.23  34.4       1         1   \n",
       "3             1              0             174.12  24.0       1         1   \n",
       "4             0              0             186.21  29.0       1         1   \n",
       "\n",
       "   Gender_Female  Gender_Male  Work_Govt_job  Work_Never_worked  Work_Private  \\\n",
       "0              0            1              0                  0             1   \n",
       "1              0            1              0                  0             1   \n",
       "2              1            0              0                  0             1   \n",
       "3              1            0              0                  0             0   \n",
       "4              0            1              0                  0             1   \n",
       "\n",
       "   Work_Self-employed  Work_children  smoking_Unknown  \\\n",
       "0                   0              0                0   \n",
       "1                   0              0                0   \n",
       "2                   0              0                0   \n",
       "3                   1              0                0   \n",
       "4                   0              0                0   \n",
       "\n",
       "   smoking_formerly smoked  smoking_never smoked  smoking_smokes  \\\n",
       "0                        1                     0               0   \n",
       "1                        0                     1               0   \n",
       "2                        0                     0               1   \n",
       "3                        0                     1               0   \n",
       "4                        1                     0               0   \n",
       "\n",
       "   Residence_Rural  Residence_Urban  old  \n",
       "0                0                1    1  \n",
       "1                1                0    1  \n",
       "2                0                1    1  \n",
       "3                1                0    1  \n",
       "4                0                1    1  "
      ]
     },
     "execution_count": 6,
     "metadata": {},
     "output_type": "execute_result"
    }
   ],
   "source": [
    "df.head()"
   ]
  },
  {
   "cell_type": "code",
   "execution_count": 8,
   "id": "09a10860",
   "metadata": {},
   "outputs": [
    {
     "data": {
      "text/html": [
       "<div>\n",
       "<style scoped>\n",
       "    .dataframe tbody tr th:only-of-type {\n",
       "        vertical-align: middle;\n",
       "    }\n",
       "\n",
       "    .dataframe tbody tr th {\n",
       "        vertical-align: top;\n",
       "    }\n",
       "\n",
       "    .dataframe thead th {\n",
       "        text-align: right;\n",
       "    }\n",
       "</style>\n",
       "<table border=\"1\" class=\"dataframe\">\n",
       "  <thead>\n",
       "    <tr style=\"text-align: right;\">\n",
       "      <th></th>\n",
       "      <th>hypertension</th>\n",
       "      <th>heart_disease</th>\n",
       "      <th>avg_glucose_level</th>\n",
       "      <th>bmi</th>\n",
       "      <th>marriage</th>\n",
       "      <th>Gender_Female</th>\n",
       "      <th>Gender_Male</th>\n",
       "      <th>Work_Govt_job</th>\n",
       "      <th>Work_Never_worked</th>\n",
       "      <th>Work_Private</th>\n",
       "      <th>Work_Self-employed</th>\n",
       "      <th>Work_children</th>\n",
       "      <th>smoking_Unknown</th>\n",
       "      <th>smoking_formerly smoked</th>\n",
       "      <th>smoking_never smoked</th>\n",
       "      <th>smoking_smokes</th>\n",
       "      <th>Residence_Rural</th>\n",
       "      <th>Residence_Urban</th>\n",
       "    </tr>\n",
       "  </thead>\n",
       "  <tbody>\n",
       "    <tr>\n",
       "      <th>0</th>\n",
       "      <td>0</td>\n",
       "      <td>1</td>\n",
       "      <td>228.69</td>\n",
       "      <td>36.6</td>\n",
       "      <td>1</td>\n",
       "      <td>0</td>\n",
       "      <td>1</td>\n",
       "      <td>0</td>\n",
       "      <td>0</td>\n",
       "      <td>1</td>\n",
       "      <td>0</td>\n",
       "      <td>0</td>\n",
       "      <td>0</td>\n",
       "      <td>1</td>\n",
       "      <td>0</td>\n",
       "      <td>0</td>\n",
       "      <td>0</td>\n",
       "      <td>1</td>\n",
       "    </tr>\n",
       "    <tr>\n",
       "      <th>1</th>\n",
       "      <td>0</td>\n",
       "      <td>1</td>\n",
       "      <td>105.92</td>\n",
       "      <td>32.5</td>\n",
       "      <td>1</td>\n",
       "      <td>0</td>\n",
       "      <td>1</td>\n",
       "      <td>0</td>\n",
       "      <td>0</td>\n",
       "      <td>1</td>\n",
       "      <td>0</td>\n",
       "      <td>0</td>\n",
       "      <td>0</td>\n",
       "      <td>0</td>\n",
       "      <td>1</td>\n",
       "      <td>0</td>\n",
       "      <td>1</td>\n",
       "      <td>0</td>\n",
       "    </tr>\n",
       "    <tr>\n",
       "      <th>2</th>\n",
       "      <td>0</td>\n",
       "      <td>0</td>\n",
       "      <td>171.23</td>\n",
       "      <td>34.4</td>\n",
       "      <td>1</td>\n",
       "      <td>1</td>\n",
       "      <td>0</td>\n",
       "      <td>0</td>\n",
       "      <td>0</td>\n",
       "      <td>1</td>\n",
       "      <td>0</td>\n",
       "      <td>0</td>\n",
       "      <td>0</td>\n",
       "      <td>0</td>\n",
       "      <td>0</td>\n",
       "      <td>1</td>\n",
       "      <td>0</td>\n",
       "      <td>1</td>\n",
       "    </tr>\n",
       "    <tr>\n",
       "      <th>3</th>\n",
       "      <td>1</td>\n",
       "      <td>0</td>\n",
       "      <td>174.12</td>\n",
       "      <td>24.0</td>\n",
       "      <td>1</td>\n",
       "      <td>1</td>\n",
       "      <td>0</td>\n",
       "      <td>0</td>\n",
       "      <td>0</td>\n",
       "      <td>0</td>\n",
       "      <td>1</td>\n",
       "      <td>0</td>\n",
       "      <td>0</td>\n",
       "      <td>0</td>\n",
       "      <td>1</td>\n",
       "      <td>0</td>\n",
       "      <td>1</td>\n",
       "      <td>0</td>\n",
       "    </tr>\n",
       "    <tr>\n",
       "      <th>4</th>\n",
       "      <td>0</td>\n",
       "      <td>0</td>\n",
       "      <td>186.21</td>\n",
       "      <td>29.0</td>\n",
       "      <td>1</td>\n",
       "      <td>0</td>\n",
       "      <td>1</td>\n",
       "      <td>0</td>\n",
       "      <td>0</td>\n",
       "      <td>1</td>\n",
       "      <td>0</td>\n",
       "      <td>0</td>\n",
       "      <td>0</td>\n",
       "      <td>1</td>\n",
       "      <td>0</td>\n",
       "      <td>0</td>\n",
       "      <td>0</td>\n",
       "      <td>1</td>\n",
       "    </tr>\n",
       "    <tr>\n",
       "      <th>...</th>\n",
       "      <td>...</td>\n",
       "      <td>...</td>\n",
       "      <td>...</td>\n",
       "      <td>...</td>\n",
       "      <td>...</td>\n",
       "      <td>...</td>\n",
       "      <td>...</td>\n",
       "      <td>...</td>\n",
       "      <td>...</td>\n",
       "      <td>...</td>\n",
       "      <td>...</td>\n",
       "      <td>...</td>\n",
       "      <td>...</td>\n",
       "      <td>...</td>\n",
       "      <td>...</td>\n",
       "      <td>...</td>\n",
       "      <td>...</td>\n",
       "      <td>...</td>\n",
       "    </tr>\n",
       "    <tr>\n",
       "      <th>4904</th>\n",
       "      <td>0</td>\n",
       "      <td>0</td>\n",
       "      <td>103.08</td>\n",
       "      <td>18.6</td>\n",
       "      <td>0</td>\n",
       "      <td>1</td>\n",
       "      <td>0</td>\n",
       "      <td>0</td>\n",
       "      <td>0</td>\n",
       "      <td>0</td>\n",
       "      <td>0</td>\n",
       "      <td>1</td>\n",
       "      <td>1</td>\n",
       "      <td>0</td>\n",
       "      <td>0</td>\n",
       "      <td>0</td>\n",
       "      <td>1</td>\n",
       "      <td>0</td>\n",
       "    </tr>\n",
       "    <tr>\n",
       "      <th>4905</th>\n",
       "      <td>0</td>\n",
       "      <td>0</td>\n",
       "      <td>125.20</td>\n",
       "      <td>40.0</td>\n",
       "      <td>1</td>\n",
       "      <td>1</td>\n",
       "      <td>0</td>\n",
       "      <td>0</td>\n",
       "      <td>0</td>\n",
       "      <td>0</td>\n",
       "      <td>1</td>\n",
       "      <td>0</td>\n",
       "      <td>0</td>\n",
       "      <td>0</td>\n",
       "      <td>1</td>\n",
       "      <td>0</td>\n",
       "      <td>0</td>\n",
       "      <td>1</td>\n",
       "    </tr>\n",
       "    <tr>\n",
       "      <th>4906</th>\n",
       "      <td>0</td>\n",
       "      <td>0</td>\n",
       "      <td>82.99</td>\n",
       "      <td>30.6</td>\n",
       "      <td>1</td>\n",
       "      <td>1</td>\n",
       "      <td>0</td>\n",
       "      <td>0</td>\n",
       "      <td>0</td>\n",
       "      <td>0</td>\n",
       "      <td>1</td>\n",
       "      <td>0</td>\n",
       "      <td>0</td>\n",
       "      <td>0</td>\n",
       "      <td>1</td>\n",
       "      <td>0</td>\n",
       "      <td>1</td>\n",
       "      <td>0</td>\n",
       "    </tr>\n",
       "    <tr>\n",
       "      <th>4907</th>\n",
       "      <td>0</td>\n",
       "      <td>0</td>\n",
       "      <td>166.29</td>\n",
       "      <td>25.6</td>\n",
       "      <td>1</td>\n",
       "      <td>0</td>\n",
       "      <td>1</td>\n",
       "      <td>0</td>\n",
       "      <td>0</td>\n",
       "      <td>1</td>\n",
       "      <td>0</td>\n",
       "      <td>0</td>\n",
       "      <td>0</td>\n",
       "      <td>1</td>\n",
       "      <td>0</td>\n",
       "      <td>0</td>\n",
       "      <td>1</td>\n",
       "      <td>0</td>\n",
       "    </tr>\n",
       "    <tr>\n",
       "      <th>4908</th>\n",
       "      <td>0</td>\n",
       "      <td>0</td>\n",
       "      <td>85.28</td>\n",
       "      <td>26.2</td>\n",
       "      <td>1</td>\n",
       "      <td>1</td>\n",
       "      <td>0</td>\n",
       "      <td>1</td>\n",
       "      <td>0</td>\n",
       "      <td>0</td>\n",
       "      <td>0</td>\n",
       "      <td>0</td>\n",
       "      <td>1</td>\n",
       "      <td>0</td>\n",
       "      <td>0</td>\n",
       "      <td>0</td>\n",
       "      <td>0</td>\n",
       "      <td>1</td>\n",
       "    </tr>\n",
       "  </tbody>\n",
       "</table>\n",
       "<p>4908 rows × 18 columns</p>\n",
       "</div>"
      ],
      "text/plain": [
       "      hypertension  heart_disease  avg_glucose_level   bmi  marriage  \\\n",
       "0                0              1             228.69  36.6         1   \n",
       "1                0              1             105.92  32.5         1   \n",
       "2                0              0             171.23  34.4         1   \n",
       "3                1              0             174.12  24.0         1   \n",
       "4                0              0             186.21  29.0         1   \n",
       "...            ...            ...                ...   ...       ...   \n",
       "4904             0              0             103.08  18.6         0   \n",
       "4905             0              0             125.20  40.0         1   \n",
       "4906             0              0              82.99  30.6         1   \n",
       "4907             0              0             166.29  25.6         1   \n",
       "4908             0              0              85.28  26.2         1   \n",
       "\n",
       "      Gender_Female  Gender_Male  Work_Govt_job  Work_Never_worked  \\\n",
       "0                 0            1              0                  0   \n",
       "1                 0            1              0                  0   \n",
       "2                 1            0              0                  0   \n",
       "3                 1            0              0                  0   \n",
       "4                 0            1              0                  0   \n",
       "...             ...          ...            ...                ...   \n",
       "4904              1            0              0                  0   \n",
       "4905              1            0              0                  0   \n",
       "4906              1            0              0                  0   \n",
       "4907              0            1              0                  0   \n",
       "4908              1            0              1                  0   \n",
       "\n",
       "      Work_Private  Work_Self-employed  Work_children  smoking_Unknown  \\\n",
       "0                1                   0              0                0   \n",
       "1                1                   0              0                0   \n",
       "2                1                   0              0                0   \n",
       "3                0                   1              0                0   \n",
       "4                1                   0              0                0   \n",
       "...            ...                 ...            ...              ...   \n",
       "4904             0                   0              1                1   \n",
       "4905             0                   1              0                0   \n",
       "4906             0                   1              0                0   \n",
       "4907             1                   0              0                0   \n",
       "4908             0                   0              0                1   \n",
       "\n",
       "      smoking_formerly smoked  smoking_never smoked  smoking_smokes  \\\n",
       "0                           1                     0               0   \n",
       "1                           0                     1               0   \n",
       "2                           0                     0               1   \n",
       "3                           0                     1               0   \n",
       "4                           1                     0               0   \n",
       "...                       ...                   ...             ...   \n",
       "4904                        0                     0               0   \n",
       "4905                        0                     1               0   \n",
       "4906                        0                     1               0   \n",
       "4907                        1                     0               0   \n",
       "4908                        0                     0               0   \n",
       "\n",
       "      Residence_Rural  Residence_Urban  \n",
       "0                   0                1  \n",
       "1                   1                0  \n",
       "2                   0                1  \n",
       "3                   1                0  \n",
       "4                   0                1  \n",
       "...               ...              ...  \n",
       "4904                1                0  \n",
       "4905                0                1  \n",
       "4906                1                0  \n",
       "4907                1                0  \n",
       "4908                0                1  \n",
       "\n",
       "[4908 rows x 18 columns]"
      ]
     },
     "execution_count": 8,
     "metadata": {},
     "output_type": "execute_result"
    }
   ],
   "source": [
    "X = df.drop(columns = ['stroke', 'old'])\n",
    "X"
   ]
  },
  {
   "cell_type": "code",
   "execution_count": 9,
   "id": "7cdff4d9",
   "metadata": {
    "scrolled": false
   },
   "outputs": [
    {
     "data": {
      "text/html": [
       "<div>\n",
       "<style scoped>\n",
       "    .dataframe tbody tr th:only-of-type {\n",
       "        vertical-align: middle;\n",
       "    }\n",
       "\n",
       "    .dataframe tbody tr th {\n",
       "        vertical-align: top;\n",
       "    }\n",
       "\n",
       "    .dataframe thead th {\n",
       "        text-align: right;\n",
       "    }\n",
       "</style>\n",
       "<table border=\"1\" class=\"dataframe\">\n",
       "  <thead>\n",
       "    <tr style=\"text-align: right;\">\n",
       "      <th></th>\n",
       "      <th>hypertension</th>\n",
       "      <th>heart_disease</th>\n",
       "      <th>avg_glucose_level</th>\n",
       "      <th>bmi</th>\n",
       "      <th>stroke</th>\n",
       "      <th>marriage</th>\n",
       "      <th>Gender_Female</th>\n",
       "      <th>Gender_Male</th>\n",
       "      <th>Work_Govt_job</th>\n",
       "      <th>Work_Never_worked</th>\n",
       "      <th>Work_Private</th>\n",
       "      <th>Work_Self-employed</th>\n",
       "      <th>Work_children</th>\n",
       "      <th>smoking_Unknown</th>\n",
       "      <th>smoking_formerly smoked</th>\n",
       "      <th>smoking_never smoked</th>\n",
       "      <th>smoking_smokes</th>\n",
       "      <th>Residence_Rural</th>\n",
       "      <th>Residence_Urban</th>\n",
       "    </tr>\n",
       "  </thead>\n",
       "  <tbody>\n",
       "    <tr>\n",
       "      <th>25</th>\n",
       "      <td>0</td>\n",
       "      <td>0</td>\n",
       "      <td>83.41</td>\n",
       "      <td>25.4</td>\n",
       "      <td>1</td>\n",
       "      <td>1</td>\n",
       "      <td>0</td>\n",
       "      <td>1</td>\n",
       "      <td>0</td>\n",
       "      <td>0</td>\n",
       "      <td>1</td>\n",
       "      <td>0</td>\n",
       "      <td>0</td>\n",
       "      <td>1</td>\n",
       "      <td>0</td>\n",
       "      <td>0</td>\n",
       "      <td>0</td>\n",
       "      <td>1</td>\n",
       "      <td>0</td>\n",
       "    </tr>\n",
       "    <tr>\n",
       "      <th>41</th>\n",
       "      <td>1</td>\n",
       "      <td>0</td>\n",
       "      <td>58.09</td>\n",
       "      <td>39.2</td>\n",
       "      <td>1</td>\n",
       "      <td>1</td>\n",
       "      <td>1</td>\n",
       "      <td>0</td>\n",
       "      <td>0</td>\n",
       "      <td>0</td>\n",
       "      <td>1</td>\n",
       "      <td>0</td>\n",
       "      <td>0</td>\n",
       "      <td>0</td>\n",
       "      <td>0</td>\n",
       "      <td>0</td>\n",
       "      <td>1</td>\n",
       "      <td>1</td>\n",
       "      <td>0</td>\n",
       "    </tr>\n",
       "    <tr>\n",
       "      <th>64</th>\n",
       "      <td>0</td>\n",
       "      <td>0</td>\n",
       "      <td>143.43</td>\n",
       "      <td>45.9</td>\n",
       "      <td>1</td>\n",
       "      <td>1</td>\n",
       "      <td>0</td>\n",
       "      <td>1</td>\n",
       "      <td>0</td>\n",
       "      <td>0</td>\n",
       "      <td>0</td>\n",
       "      <td>1</td>\n",
       "      <td>0</td>\n",
       "      <td>1</td>\n",
       "      <td>0</td>\n",
       "      <td>0</td>\n",
       "      <td>0</td>\n",
       "      <td>0</td>\n",
       "      <td>1</td>\n",
       "    </tr>\n",
       "    <tr>\n",
       "      <th>99</th>\n",
       "      <td>0</td>\n",
       "      <td>0</td>\n",
       "      <td>82.28</td>\n",
       "      <td>24.0</td>\n",
       "      <td>1</td>\n",
       "      <td>0</td>\n",
       "      <td>1</td>\n",
       "      <td>0</td>\n",
       "      <td>0</td>\n",
       "      <td>0</td>\n",
       "      <td>0</td>\n",
       "      <td>1</td>\n",
       "      <td>0</td>\n",
       "      <td>0</td>\n",
       "      <td>1</td>\n",
       "      <td>0</td>\n",
       "      <td>0</td>\n",
       "      <td>0</td>\n",
       "      <td>1</td>\n",
       "    </tr>\n",
       "    <tr>\n",
       "      <th>149</th>\n",
       "      <td>0</td>\n",
       "      <td>0</td>\n",
       "      <td>76.13</td>\n",
       "      <td>29.9</td>\n",
       "      <td>1</td>\n",
       "      <td>1</td>\n",
       "      <td>1</td>\n",
       "      <td>0</td>\n",
       "      <td>0</td>\n",
       "      <td>0</td>\n",
       "      <td>1</td>\n",
       "      <td>0</td>\n",
       "      <td>0</td>\n",
       "      <td>0</td>\n",
       "      <td>0</td>\n",
       "      <td>0</td>\n",
       "      <td>1</td>\n",
       "      <td>1</td>\n",
       "      <td>0</td>\n",
       "    </tr>\n",
       "    <tr>\n",
       "      <th>...</th>\n",
       "      <td>...</td>\n",
       "      <td>...</td>\n",
       "      <td>...</td>\n",
       "      <td>...</td>\n",
       "      <td>...</td>\n",
       "      <td>...</td>\n",
       "      <td>...</td>\n",
       "      <td>...</td>\n",
       "      <td>...</td>\n",
       "      <td>...</td>\n",
       "      <td>...</td>\n",
       "      <td>...</td>\n",
       "      <td>...</td>\n",
       "      <td>...</td>\n",
       "      <td>...</td>\n",
       "      <td>...</td>\n",
       "      <td>...</td>\n",
       "      <td>...</td>\n",
       "      <td>...</td>\n",
       "    </tr>\n",
       "    <tr>\n",
       "      <th>4899</th>\n",
       "      <td>0</td>\n",
       "      <td>0</td>\n",
       "      <td>71.88</td>\n",
       "      <td>17.5</td>\n",
       "      <td>0</td>\n",
       "      <td>0</td>\n",
       "      <td>0</td>\n",
       "      <td>1</td>\n",
       "      <td>0</td>\n",
       "      <td>0</td>\n",
       "      <td>0</td>\n",
       "      <td>0</td>\n",
       "      <td>1</td>\n",
       "      <td>1</td>\n",
       "      <td>0</td>\n",
       "      <td>0</td>\n",
       "      <td>0</td>\n",
       "      <td>0</td>\n",
       "      <td>1</td>\n",
       "    </tr>\n",
       "    <tr>\n",
       "      <th>4903</th>\n",
       "      <td>0</td>\n",
       "      <td>0</td>\n",
       "      <td>82.85</td>\n",
       "      <td>46.9</td>\n",
       "      <td>0</td>\n",
       "      <td>0</td>\n",
       "      <td>1</td>\n",
       "      <td>0</td>\n",
       "      <td>0</td>\n",
       "      <td>0</td>\n",
       "      <td>1</td>\n",
       "      <td>0</td>\n",
       "      <td>0</td>\n",
       "      <td>1</td>\n",
       "      <td>0</td>\n",
       "      <td>0</td>\n",
       "      <td>0</td>\n",
       "      <td>0</td>\n",
       "      <td>1</td>\n",
       "    </tr>\n",
       "    <tr>\n",
       "      <th>4904</th>\n",
       "      <td>0</td>\n",
       "      <td>0</td>\n",
       "      <td>103.08</td>\n",
       "      <td>18.6</td>\n",
       "      <td>0</td>\n",
       "      <td>0</td>\n",
       "      <td>1</td>\n",
       "      <td>0</td>\n",
       "      <td>0</td>\n",
       "      <td>0</td>\n",
       "      <td>0</td>\n",
       "      <td>0</td>\n",
       "      <td>1</td>\n",
       "      <td>1</td>\n",
       "      <td>0</td>\n",
       "      <td>0</td>\n",
       "      <td>0</td>\n",
       "      <td>1</td>\n",
       "      <td>0</td>\n",
       "    </tr>\n",
       "    <tr>\n",
       "      <th>4906</th>\n",
       "      <td>0</td>\n",
       "      <td>0</td>\n",
       "      <td>82.99</td>\n",
       "      <td>30.6</td>\n",
       "      <td>0</td>\n",
       "      <td>1</td>\n",
       "      <td>1</td>\n",
       "      <td>0</td>\n",
       "      <td>0</td>\n",
       "      <td>0</td>\n",
       "      <td>0</td>\n",
       "      <td>1</td>\n",
       "      <td>0</td>\n",
       "      <td>0</td>\n",
       "      <td>0</td>\n",
       "      <td>1</td>\n",
       "      <td>0</td>\n",
       "      <td>1</td>\n",
       "      <td>0</td>\n",
       "    </tr>\n",
       "    <tr>\n",
       "      <th>4908</th>\n",
       "      <td>0</td>\n",
       "      <td>0</td>\n",
       "      <td>85.28</td>\n",
       "      <td>26.2</td>\n",
       "      <td>0</td>\n",
       "      <td>1</td>\n",
       "      <td>1</td>\n",
       "      <td>0</td>\n",
       "      <td>1</td>\n",
       "      <td>0</td>\n",
       "      <td>0</td>\n",
       "      <td>0</td>\n",
       "      <td>0</td>\n",
       "      <td>1</td>\n",
       "      <td>0</td>\n",
       "      <td>0</td>\n",
       "      <td>0</td>\n",
       "      <td>0</td>\n",
       "      <td>1</td>\n",
       "    </tr>\n",
       "  </tbody>\n",
       "</table>\n",
       "<p>2464 rows × 19 columns</p>\n",
       "</div>"
      ],
      "text/plain": [
       "      hypertension  heart_disease  avg_glucose_level   bmi  stroke  marriage  \\\n",
       "25               0              0              83.41  25.4       1         1   \n",
       "41               1              0              58.09  39.2       1         1   \n",
       "64               0              0             143.43  45.9       1         1   \n",
       "99               0              0              82.28  24.0       1         0   \n",
       "149              0              0              76.13  29.9       1         1   \n",
       "...            ...            ...                ...   ...     ...       ...   \n",
       "4899             0              0              71.88  17.5       0         0   \n",
       "4903             0              0              82.85  46.9       0         0   \n",
       "4904             0              0             103.08  18.6       0         0   \n",
       "4906             0              0              82.99  30.6       0         1   \n",
       "4908             0              0              85.28  26.2       0         1   \n",
       "\n",
       "      Gender_Female  Gender_Male  Work_Govt_job  Work_Never_worked  \\\n",
       "25                0            1              0                  0   \n",
       "41                1            0              0                  0   \n",
       "64                0            1              0                  0   \n",
       "99                1            0              0                  0   \n",
       "149               1            0              0                  0   \n",
       "...             ...          ...            ...                ...   \n",
       "4899              0            1              0                  0   \n",
       "4903              1            0              0                  0   \n",
       "4904              1            0              0                  0   \n",
       "4906              1            0              0                  0   \n",
       "4908              1            0              1                  0   \n",
       "\n",
       "      Work_Private  Work_Self-employed  Work_children  smoking_Unknown  \\\n",
       "25               1                   0              0                1   \n",
       "41               1                   0              0                0   \n",
       "64               0                   1              0                1   \n",
       "99               0                   1              0                0   \n",
       "149              1                   0              0                0   \n",
       "...            ...                 ...            ...              ...   \n",
       "4899             0                   0              1                1   \n",
       "4903             1                   0              0                1   \n",
       "4904             0                   0              1                1   \n",
       "4906             0                   1              0                0   \n",
       "4908             0                   0              0                1   \n",
       "\n",
       "      smoking_formerly smoked  smoking_never smoked  smoking_smokes  \\\n",
       "25                          0                     0               0   \n",
       "41                          0                     0               1   \n",
       "64                          0                     0               0   \n",
       "99                          1                     0               0   \n",
       "149                         0                     0               1   \n",
       "...                       ...                   ...             ...   \n",
       "4899                        0                     0               0   \n",
       "4903                        0                     0               0   \n",
       "4904                        0                     0               0   \n",
       "4906                        0                     1               0   \n",
       "4908                        0                     0               0   \n",
       "\n",
       "      Residence_Rural  Residence_Urban  \n",
       "25                  1                0  \n",
       "41                  1                0  \n",
       "64                  0                1  \n",
       "99                  0                1  \n",
       "149                 1                0  \n",
       "...               ...              ...  \n",
       "4899                0                1  \n",
       "4903                0                1  \n",
       "4904                1                0  \n",
       "4906                1                0  \n",
       "4908                0                1  \n",
       "\n",
       "[2464 rows x 19 columns]"
      ]
     },
     "execution_count": 9,
     "metadata": {},
     "output_type": "execute_result"
    }
   ],
   "source": [
    "df_0 = df[df['old'] == 0]\n",
    "df_0 = df_0.drop(columns = ['old'])\n",
    "df_0"
   ]
  },
  {
   "cell_type": "code",
   "execution_count": 10,
   "id": "f4d3b7a0",
   "metadata": {},
   "outputs": [
    {
     "data": {
      "text/html": [
       "<div>\n",
       "<style scoped>\n",
       "    .dataframe tbody tr th:only-of-type {\n",
       "        vertical-align: middle;\n",
       "    }\n",
       "\n",
       "    .dataframe tbody tr th {\n",
       "        vertical-align: top;\n",
       "    }\n",
       "\n",
       "    .dataframe thead th {\n",
       "        text-align: right;\n",
       "    }\n",
       "</style>\n",
       "<table border=\"1\" class=\"dataframe\">\n",
       "  <thead>\n",
       "    <tr style=\"text-align: right;\">\n",
       "      <th></th>\n",
       "      <th>hypertension</th>\n",
       "      <th>heart_disease</th>\n",
       "      <th>avg_glucose_level</th>\n",
       "      <th>bmi</th>\n",
       "      <th>stroke</th>\n",
       "      <th>marriage</th>\n",
       "      <th>Gender_Female</th>\n",
       "      <th>Gender_Male</th>\n",
       "      <th>Work_Govt_job</th>\n",
       "      <th>Work_Never_worked</th>\n",
       "      <th>Work_Private</th>\n",
       "      <th>Work_Self-employed</th>\n",
       "      <th>Work_children</th>\n",
       "      <th>smoking_Unknown</th>\n",
       "      <th>smoking_formerly smoked</th>\n",
       "      <th>smoking_never smoked</th>\n",
       "      <th>smoking_smokes</th>\n",
       "      <th>Residence_Rural</th>\n",
       "      <th>Residence_Urban</th>\n",
       "    </tr>\n",
       "  </thead>\n",
       "  <tbody>\n",
       "    <tr>\n",
       "      <th>0</th>\n",
       "      <td>0</td>\n",
       "      <td>1</td>\n",
       "      <td>228.69</td>\n",
       "      <td>36.6</td>\n",
       "      <td>1</td>\n",
       "      <td>1</td>\n",
       "      <td>0</td>\n",
       "      <td>1</td>\n",
       "      <td>0</td>\n",
       "      <td>0</td>\n",
       "      <td>1</td>\n",
       "      <td>0</td>\n",
       "      <td>0</td>\n",
       "      <td>0</td>\n",
       "      <td>1</td>\n",
       "      <td>0</td>\n",
       "      <td>0</td>\n",
       "      <td>0</td>\n",
       "      <td>1</td>\n",
       "    </tr>\n",
       "    <tr>\n",
       "      <th>1</th>\n",
       "      <td>0</td>\n",
       "      <td>1</td>\n",
       "      <td>105.92</td>\n",
       "      <td>32.5</td>\n",
       "      <td>1</td>\n",
       "      <td>1</td>\n",
       "      <td>0</td>\n",
       "      <td>1</td>\n",
       "      <td>0</td>\n",
       "      <td>0</td>\n",
       "      <td>1</td>\n",
       "      <td>0</td>\n",
       "      <td>0</td>\n",
       "      <td>0</td>\n",
       "      <td>0</td>\n",
       "      <td>1</td>\n",
       "      <td>0</td>\n",
       "      <td>1</td>\n",
       "      <td>0</td>\n",
       "    </tr>\n",
       "    <tr>\n",
       "      <th>2</th>\n",
       "      <td>0</td>\n",
       "      <td>0</td>\n",
       "      <td>171.23</td>\n",
       "      <td>34.4</td>\n",
       "      <td>1</td>\n",
       "      <td>1</td>\n",
       "      <td>1</td>\n",
       "      <td>0</td>\n",
       "      <td>0</td>\n",
       "      <td>0</td>\n",
       "      <td>1</td>\n",
       "      <td>0</td>\n",
       "      <td>0</td>\n",
       "      <td>0</td>\n",
       "      <td>0</td>\n",
       "      <td>0</td>\n",
       "      <td>1</td>\n",
       "      <td>0</td>\n",
       "      <td>1</td>\n",
       "    </tr>\n",
       "    <tr>\n",
       "      <th>3</th>\n",
       "      <td>1</td>\n",
       "      <td>0</td>\n",
       "      <td>174.12</td>\n",
       "      <td>24.0</td>\n",
       "      <td>1</td>\n",
       "      <td>1</td>\n",
       "      <td>1</td>\n",
       "      <td>0</td>\n",
       "      <td>0</td>\n",
       "      <td>0</td>\n",
       "      <td>0</td>\n",
       "      <td>1</td>\n",
       "      <td>0</td>\n",
       "      <td>0</td>\n",
       "      <td>0</td>\n",
       "      <td>1</td>\n",
       "      <td>0</td>\n",
       "      <td>1</td>\n",
       "      <td>0</td>\n",
       "    </tr>\n",
       "    <tr>\n",
       "      <th>4</th>\n",
       "      <td>0</td>\n",
       "      <td>0</td>\n",
       "      <td>186.21</td>\n",
       "      <td>29.0</td>\n",
       "      <td>1</td>\n",
       "      <td>1</td>\n",
       "      <td>0</td>\n",
       "      <td>1</td>\n",
       "      <td>0</td>\n",
       "      <td>0</td>\n",
       "      <td>1</td>\n",
       "      <td>0</td>\n",
       "      <td>0</td>\n",
       "      <td>0</td>\n",
       "      <td>1</td>\n",
       "      <td>0</td>\n",
       "      <td>0</td>\n",
       "      <td>0</td>\n",
       "      <td>1</td>\n",
       "    </tr>\n",
       "    <tr>\n",
       "      <th>...</th>\n",
       "      <td>...</td>\n",
       "      <td>...</td>\n",
       "      <td>...</td>\n",
       "      <td>...</td>\n",
       "      <td>...</td>\n",
       "      <td>...</td>\n",
       "      <td>...</td>\n",
       "      <td>...</td>\n",
       "      <td>...</td>\n",
       "      <td>...</td>\n",
       "      <td>...</td>\n",
       "      <td>...</td>\n",
       "      <td>...</td>\n",
       "      <td>...</td>\n",
       "      <td>...</td>\n",
       "      <td>...</td>\n",
       "      <td>...</td>\n",
       "      <td>...</td>\n",
       "      <td>...</td>\n",
       "    </tr>\n",
       "    <tr>\n",
       "      <th>4900</th>\n",
       "      <td>1</td>\n",
       "      <td>0</td>\n",
       "      <td>71.97</td>\n",
       "      <td>28.3</td>\n",
       "      <td>0</td>\n",
       "      <td>1</td>\n",
       "      <td>0</td>\n",
       "      <td>1</td>\n",
       "      <td>0</td>\n",
       "      <td>0</td>\n",
       "      <td>0</td>\n",
       "      <td>1</td>\n",
       "      <td>0</td>\n",
       "      <td>0</td>\n",
       "      <td>0</td>\n",
       "      <td>1</td>\n",
       "      <td>0</td>\n",
       "      <td>1</td>\n",
       "      <td>0</td>\n",
       "    </tr>\n",
       "    <tr>\n",
       "      <th>4901</th>\n",
       "      <td>0</td>\n",
       "      <td>0</td>\n",
       "      <td>97.95</td>\n",
       "      <td>24.5</td>\n",
       "      <td>0</td>\n",
       "      <td>1</td>\n",
       "      <td>1</td>\n",
       "      <td>0</td>\n",
       "      <td>0</td>\n",
       "      <td>0</td>\n",
       "      <td>1</td>\n",
       "      <td>0</td>\n",
       "      <td>0</td>\n",
       "      <td>1</td>\n",
       "      <td>0</td>\n",
       "      <td>0</td>\n",
       "      <td>0</td>\n",
       "      <td>0</td>\n",
       "      <td>1</td>\n",
       "    </tr>\n",
       "    <tr>\n",
       "      <th>4902</th>\n",
       "      <td>0</td>\n",
       "      <td>0</td>\n",
       "      <td>77.93</td>\n",
       "      <td>21.7</td>\n",
       "      <td>0</td>\n",
       "      <td>1</td>\n",
       "      <td>1</td>\n",
       "      <td>0</td>\n",
       "      <td>0</td>\n",
       "      <td>0</td>\n",
       "      <td>1</td>\n",
       "      <td>0</td>\n",
       "      <td>0</td>\n",
       "      <td>0</td>\n",
       "      <td>0</td>\n",
       "      <td>1</td>\n",
       "      <td>0</td>\n",
       "      <td>1</td>\n",
       "      <td>0</td>\n",
       "    </tr>\n",
       "    <tr>\n",
       "      <th>4905</th>\n",
       "      <td>0</td>\n",
       "      <td>0</td>\n",
       "      <td>125.20</td>\n",
       "      <td>40.0</td>\n",
       "      <td>0</td>\n",
       "      <td>1</td>\n",
       "      <td>1</td>\n",
       "      <td>0</td>\n",
       "      <td>0</td>\n",
       "      <td>0</td>\n",
       "      <td>0</td>\n",
       "      <td>1</td>\n",
       "      <td>0</td>\n",
       "      <td>0</td>\n",
       "      <td>0</td>\n",
       "      <td>1</td>\n",
       "      <td>0</td>\n",
       "      <td>0</td>\n",
       "      <td>1</td>\n",
       "    </tr>\n",
       "    <tr>\n",
       "      <th>4907</th>\n",
       "      <td>0</td>\n",
       "      <td>0</td>\n",
       "      <td>166.29</td>\n",
       "      <td>25.6</td>\n",
       "      <td>0</td>\n",
       "      <td>1</td>\n",
       "      <td>0</td>\n",
       "      <td>1</td>\n",
       "      <td>0</td>\n",
       "      <td>0</td>\n",
       "      <td>1</td>\n",
       "      <td>0</td>\n",
       "      <td>0</td>\n",
       "      <td>0</td>\n",
       "      <td>1</td>\n",
       "      <td>0</td>\n",
       "      <td>0</td>\n",
       "      <td>1</td>\n",
       "      <td>0</td>\n",
       "    </tr>\n",
       "  </tbody>\n",
       "</table>\n",
       "<p>2444 rows × 19 columns</p>\n",
       "</div>"
      ],
      "text/plain": [
       "      hypertension  heart_disease  avg_glucose_level   bmi  stroke  marriage  \\\n",
       "0                0              1             228.69  36.6       1         1   \n",
       "1                0              1             105.92  32.5       1         1   \n",
       "2                0              0             171.23  34.4       1         1   \n",
       "3                1              0             174.12  24.0       1         1   \n",
       "4                0              0             186.21  29.0       1         1   \n",
       "...            ...            ...                ...   ...     ...       ...   \n",
       "4900             1              0              71.97  28.3       0         1   \n",
       "4901             0              0              97.95  24.5       0         1   \n",
       "4902             0              0              77.93  21.7       0         1   \n",
       "4905             0              0             125.20  40.0       0         1   \n",
       "4907             0              0             166.29  25.6       0         1   \n",
       "\n",
       "      Gender_Female  Gender_Male  Work_Govt_job  Work_Never_worked  \\\n",
       "0                 0            1              0                  0   \n",
       "1                 0            1              0                  0   \n",
       "2                 1            0              0                  0   \n",
       "3                 1            0              0                  0   \n",
       "4                 0            1              0                  0   \n",
       "...             ...          ...            ...                ...   \n",
       "4900              0            1              0                  0   \n",
       "4901              1            0              0                  0   \n",
       "4902              1            0              0                  0   \n",
       "4905              1            0              0                  0   \n",
       "4907              0            1              0                  0   \n",
       "\n",
       "      Work_Private  Work_Self-employed  Work_children  smoking_Unknown  \\\n",
       "0                1                   0              0                0   \n",
       "1                1                   0              0                0   \n",
       "2                1                   0              0                0   \n",
       "3                0                   1              0                0   \n",
       "4                1                   0              0                0   \n",
       "...            ...                 ...            ...              ...   \n",
       "4900             0                   1              0                0   \n",
       "4901             1                   0              0                1   \n",
       "4902             1                   0              0                0   \n",
       "4905             0                   1              0                0   \n",
       "4907             1                   0              0                0   \n",
       "\n",
       "      smoking_formerly smoked  smoking_never smoked  smoking_smokes  \\\n",
       "0                           1                     0               0   \n",
       "1                           0                     1               0   \n",
       "2                           0                     0               1   \n",
       "3                           0                     1               0   \n",
       "4                           1                     0               0   \n",
       "...                       ...                   ...             ...   \n",
       "4900                        0                     1               0   \n",
       "4901                        0                     0               0   \n",
       "4902                        0                     1               0   \n",
       "4905                        0                     1               0   \n",
       "4907                        1                     0               0   \n",
       "\n",
       "      Residence_Rural  Residence_Urban  \n",
       "0                   0                1  \n",
       "1                   1                0  \n",
       "2                   0                1  \n",
       "3                   1                0  \n",
       "4                   0                1  \n",
       "...               ...              ...  \n",
       "4900                1                0  \n",
       "4901                0                1  \n",
       "4902                1                0  \n",
       "4905                0                1  \n",
       "4907                1                0  \n",
       "\n",
       "[2444 rows x 19 columns]"
      ]
     },
     "execution_count": 10,
     "metadata": {},
     "output_type": "execute_result"
    }
   ],
   "source": [
    "df_1 = df[df['old'] == 1]\n",
    "df_1 = df_1.drop(columns = ['old'])\n",
    "df_1"
   ]
  },
  {
   "cell_type": "code",
   "execution_count": 11,
   "id": "a80fb9c6",
   "metadata": {
    "scrolled": true
   },
   "outputs": [],
   "source": [
    "y_0 = df_0['stroke']\n",
    "x_0 = df_0.drop(columns = ['stroke'])"
   ]
  },
  {
   "cell_type": "code",
   "execution_count": 12,
   "id": "c2612ba0",
   "metadata": {},
   "outputs": [],
   "source": [
    "y_1 = df_1['stroke']\n",
    "x_1 = df_1.drop(columns = ['stroke'])"
   ]
  },
  {
   "cell_type": "code",
   "execution_count": 13,
   "id": "8bfa4273",
   "metadata": {},
   "outputs": [],
   "source": [
    "from sklearn.ensemble import RandomForestClassifier\n",
    "from sklearn.model_selection import GridSearchCV\n",
    "from sklearn.model_selection import cross_val_score\n",
    "import matplotlib.pyplot as plt"
   ]
  },
  {
   "cell_type": "markdown",
   "id": "445966eb",
   "metadata": {},
   "source": [
    "# Model for controlled group"
   ]
  },
  {
   "cell_type": "code",
   "execution_count": 14,
   "id": "2250af41",
   "metadata": {},
   "outputs": [
    {
     "data": {
      "text/plain": [
       "0.9967537393426673"
      ]
     },
     "execution_count": 14,
     "metadata": {},
     "output_type": "execute_result"
    }
   ],
   "source": [
    "rfc = RandomForestClassifier(random_state=60)\n",
    "score_pre_0 = cross_val_score(rfc,x_0,y_0,cv=5).mean()\n",
    "score_pre_0"
   ]
  },
  {
   "cell_type": "code",
   "execution_count": 15,
   "id": "75951716",
   "metadata": {},
   "outputs": [
    {
     "name": "stdout",
     "output_type": "stream",
     "text": [
      "0.9967537393426673 11\n"
     ]
    },
    {
     "data": {
      "image/png": "[encoded data removed]",
      "text/plain": [
       "<Figure size 1440x360 with 1 Axes>"
      ]
     },
     "metadata": {
      "needs_background": "light"
     },
     "output_type": "display_data"
    }
   ],
   "source": [
    "scorel = []\n",
    "for i in range(0,200,10):\n",
    "    rfc = RandomForestClassifier(n_estimators=i+1,\n",
    "                                 n_jobs=-1,\n",
    "                                random_state=60)\n",
    "    score = cross_val_score(rfc,x_0,y_0,cv=5).mean()\n",
    "    scorel.append(score)\n",
    "\n",
    "print(max(scorel),(scorel.index(max(scorel))*10)+1)\n",
    "plt.figure(figsize=[20,5])\n",
    "plt.plot(range(1,201,10),scorel)\n",
    "plt.show()"
   ]
  },
  {
   "cell_type": "code",
   "execution_count": 17,
   "id": "50caa82a",
   "metadata": {},
   "outputs": [
    {
     "name": "stdout",
     "output_type": "stream",
     "text": [
      "0.9967537393426673 1\n"
     ]
    },
    {
     "data": {
      "image/png": "[encoded data removed]",
      "text/plain": [
       "<Figure size 4320x1440 with 1 Axes>"
      ]
     },
     "metadata": {
      "needs_background": "light"
     },
     "output_type": "display_data"
    }
   ],
   "source": [
    "scorel = []\n",
    "for i in range(1,51):\n",
    "    rfc = RandomForestClassifier(n_estimators=i+1,\n",
    "                                 n_jobs=-1,\n",
    "                                random_state=60)\n",
    "    score = cross_val_score(rfc,x_0,y_0,cv=5).mean()\n",
    "    scorel.append(score)\n",
    "\n",
    "print(max(scorel),([*range(1,51)][scorel.index(max(scorel))]))\n",
    "plt.figure(figsize=[60,20])\n",
    "plt.plot(range(1,51),scorel)\n",
    "plt.show()"
   ]
  },
  {
   "cell_type": "code",
   "execution_count": 18,
   "id": "b5fc99af",
   "metadata": {
    "scrolled": true
   },
   "outputs": [
    {
     "data": {
      "text/plain": [
       "GridSearchCV(cv=5,\n",
       "             estimator=RandomForestClassifier(n_estimators=5, random_state=60),\n",
       "             param_grid={'max_depth': array([ 1,  2,  3,  4,  5,  6,  7,  8,  9, 10, 11, 12, 13, 14, 15, 16, 17,\n",
       "       18, 19, 20, 21, 22, 23, 24, 25, 26, 27, 28, 29])})"
      ]
     },
     "execution_count": 18,
     "metadata": {},
     "output_type": "execute_result"
    }
   ],
   "source": [
    "param_grid = {'max_depth':np.arange(1, 30, 1)}\n",
    "rfc = RandomForestClassifier(n_estimators=5\n",
    "                             ,random_state=60\n",
    "                             )\n",
    "GS = GridSearchCV(rfc,param_grid,cv=5)\n",
    "GS.fit(x_0,y_0)"
   ]
  },
  {
   "cell_type": "code",
   "execution_count": 20,
   "id": "35099b1a",
   "metadata": {},
   "outputs": [
    {
     "data": {
      "text/plain": [
       "{'max_depth': 1}"
      ]
     },
     "execution_count": 20,
     "metadata": {},
     "output_type": "execute_result"
    }
   ],
   "source": [
    "GS.best_params_"
   ]
  },
  {
   "cell_type": "code",
   "execution_count": 21,
   "id": "56a53ca6",
   "metadata": {},
   "outputs": [
    {
     "data": {
      "text/plain": [
       "0.9967537393426673"
      ]
     },
     "execution_count": 21,
     "metadata": {},
     "output_type": "execute_result"
    }
   ],
   "source": [
    "GS.best_score_"
   ]
  },
  {
   "cell_type": "code",
   "execution_count": 22,
   "id": "d8438727",
   "metadata": {},
   "outputs": [
    {
     "data": {
      "text/plain": [
       "GridSearchCV(cv=5,\n",
       "             estimator=RandomForestClassifier(n_estimators=5, random_state=60),\n",
       "             param_grid={'max_features': array([ 1,  2,  3,  4,  5,  6,  7,  8,  9, 10, 11, 12, 13, 14, 15, 16, 17,\n",
       "       18, 19])})"
      ]
     },
     "execution_count": 22,
     "metadata": {},
     "output_type": "execute_result"
    }
   ],
   "source": [
    "param_grid = {'max_features':np.arange(1,20,1)}\n",
    "rfc = RandomForestClassifier(n_estimators=5\n",
    "                             ,random_state=60\n",
    "                             )\n",
    "GS = GridSearchCV(rfc,param_grid,cv=5)\n",
    "GS.fit(x_0,y_0)"
   ]
  },
  {
   "cell_type": "code",
   "execution_count": 23,
   "id": "a2ce1964",
   "metadata": {},
   "outputs": [
    {
     "data": {
      "text/plain": [
       "{'max_features': 1}"
      ]
     },
     "execution_count": 23,
     "metadata": {},
     "output_type": "execute_result"
    }
   ],
   "source": [
    "GS.best_params_"
   ]
  },
  {
   "cell_type": "code",
   "execution_count": 24,
   "id": "61f4ca98",
   "metadata": {},
   "outputs": [
    {
     "data": {
      "text/plain": [
       "0.9967537393426673"
      ]
     },
     "execution_count": 24,
     "metadata": {},
     "output_type": "execute_result"
    }
   ],
   "source": [
    "GS.best_score_"
   ]
  },
  {
   "cell_type": "code",
   "execution_count": 25,
   "id": "041a4745",
   "metadata": {},
   "outputs": [
    {
     "data": {
      "text/plain": [
       "GridSearchCV(cv=5,\n",
       "             estimator=RandomForestClassifier(n_estimators=5, random_state=60),\n",
       "             param_grid={'min_samples_leaf': array([ 1,  2,  3,  4,  5,  6,  7,  8,  9, 10, 11, 12, 13, 14, 15, 16, 17,\n",
       "       18, 19])})"
      ]
     },
     "execution_count": 25,
     "metadata": {},
     "output_type": "execute_result"
    }
   ],
   "source": [
    "param_grid={'min_samples_leaf':np.arange(1, 20, 1)}\n",
    "rfc = RandomForestClassifier(n_estimators=5\n",
    "                             ,random_state=60\n",
    "                             )\n",
    "GS = GridSearchCV(rfc,param_grid,cv=5)\n",
    "GS.fit(x_0,y_0)"
   ]
  },
  {
   "cell_type": "code",
   "execution_count": 26,
   "id": "69b5605a",
   "metadata": {},
   "outputs": [
    {
     "data": {
      "text/plain": [
       "{'min_samples_leaf': 2}"
      ]
     },
     "execution_count": 26,
     "metadata": {},
     "output_type": "execute_result"
    }
   ],
   "source": [
    "GS.best_params_"
   ]
  },
  {
   "cell_type": "code",
   "execution_count": 27,
   "id": "7e6e4d3d",
   "metadata": {},
   "outputs": [
    {
     "data": {
      "text/plain": [
       "0.9967537393426673"
      ]
     },
     "execution_count": 27,
     "metadata": {},
     "output_type": "execute_result"
    }
   ],
   "source": [
    "GS.best_score_"
   ]
  },
  {
   "cell_type": "code",
   "execution_count": 28,
   "id": "d577bcce",
   "metadata": {},
   "outputs": [
    {
     "data": {
      "text/plain": [
       "GridSearchCV(cv=5,\n",
       "             estimator=RandomForestClassifier(n_estimators=5, random_state=60),\n",
       "             param_grid={'min_samples_split': array([ 2,  3,  4,  5,  6,  7,  8,  9, 10, 11, 12, 13, 14, 15, 16, 17, 18,\n",
       "       19, 20, 21])})"
      ]
     },
     "execution_count": 28,
     "metadata": {},
     "output_type": "execute_result"
    }
   ],
   "source": [
    "param_grid={'min_samples_split':np.arange(2, 2+20, 1)}\n",
    "rfc = RandomForestClassifier(n_estimators=5\n",
    "                             ,random_state=60\n",
    "                             )\n",
    "GS = GridSearchCV(rfc,param_grid,cv=5)\n",
    "GS.fit(x_0,y_0)"
   ]
  },
  {
   "cell_type": "code",
   "execution_count": 29,
   "id": "fff77457",
   "metadata": {},
   "outputs": [
    {
     "data": {
      "text/plain": [
       "{'min_samples_split': 3}"
      ]
     },
     "execution_count": 29,
     "metadata": {},
     "output_type": "execute_result"
    }
   ],
   "source": [
    "GS.best_params_"
   ]
  },
  {
   "cell_type": "code",
   "execution_count": 30,
   "id": "5315b785",
   "metadata": {},
   "outputs": [
    {
     "data": {
      "text/plain": [
       "0.9967537393426673"
      ]
     },
     "execution_count": 30,
     "metadata": {},
     "output_type": "execute_result"
    }
   ],
   "source": [
    "GS.best_score_"
   ]
  },
  {
   "cell_type": "code",
   "execution_count": 35,
   "id": "35d5a303",
   "metadata": {},
   "outputs": [
    {
     "data": {
      "text/plain": [
       "0.9967537393426673"
      ]
     },
     "execution_count": 35,
     "metadata": {},
     "output_type": "execute_result"
    }
   ],
   "source": [
    "rfc_0 = RandomForestClassifier(n_estimators=5,max_depth = 1,random_state=60)\n",
    "score_0 = cross_val_score(rfc_0,x_0,y_0,cv=5).mean()\n",
    "score_0"
   ]
  },
  {
   "cell_type": "code",
   "execution_count": 36,
   "id": "625befab",
   "metadata": {},
   "outputs": [
    {
     "data": {
      "text/plain": [
       "0.0"
      ]
     },
     "execution_count": 36,
     "metadata": {},
     "output_type": "execute_result"
    }
   ],
   "source": [
    "score_0 - score_pre_0"
   ]
  },
  {
   "cell_type": "markdown",
   "id": "46d8b047",
   "metadata": {},
   "source": [
    "# Model for treatment group"
   ]
  },
  {
   "cell_type": "code",
   "execution_count": 37,
   "id": "118c2d19",
   "metadata": {},
   "outputs": [
    {
     "data": {
      "text/plain": [
       "0.9144825505380669"
      ]
     },
     "execution_count": 37,
     "metadata": {},
     "output_type": "execute_result"
    }
   ],
   "source": [
    "rfc = RandomForestClassifier(n_estimators=100,random_state=90)\n",
    "score_pre_1 = cross_val_score(rfc,x_1,y_1,cv=5).mean()\n",
    "score_pre_1"
   ]
  },
  {
   "cell_type": "code",
   "execution_count": 38,
   "id": "518fd43e",
   "metadata": {},
   "outputs": [
    {
     "name": "stdout",
     "output_type": "stream",
     "text": [
      "0.9136645546280464 51\n"
     ]
    },
    {
     "data": {
      "image/png": "[encoded data removed]",
      "text/plain": [
       "<Figure size 1440x360 with 1 Axes>"
      ]
     },
     "metadata": {
      "needs_background": "light"
     },
     "output_type": "display_data"
    }
   ],
   "source": [
    "scorel = []\n",
    "for i in range(0,200,10):\n",
    "    rfc = RandomForestClassifier(n_estimators=i+1,\n",
    "                                 n_jobs=-1,\n",
    "                                random_state=80)\n",
    "    score = cross_val_score(rfc,x_1,y_1,cv=5).mean()\n",
    "    scorel.append(score)\n",
    "\n",
    "print(max(scorel),(scorel.index(max(scorel))*10)+1)\n",
    "plt.figure(figsize=[20,5])\n",
    "plt.plot(range(0,200,10),scorel)\n",
    "plt.show()"
   ]
  },
  {
   "cell_type": "code",
   "execution_count": 39,
   "id": "a20f6b17",
   "metadata": {},
   "outputs": [
    {
     "name": "stdout",
     "output_type": "stream",
     "text": [
      "0.9148915484930773 27\n"
     ]
    },
    {
     "data": {
      "image/png": "[encoded data removed]",
      "text/plain": [
       "<Figure size 1440x360 with 1 Axes>"
      ]
     },
     "metadata": {
      "needs_background": "light"
     },
     "output_type": "display_data"
    }
   ],
   "source": [
    "scorel = []\n",
    "for i in range(21,81):\n",
    "    rfc = RandomForestClassifier(n_estimators=i+1,\n",
    "                                 n_jobs=-1,\n",
    "                                random_state=80)\n",
    "    score = cross_val_score(rfc,x_1,y_1,cv=5).mean()\n",
    "    scorel.append(score)\n",
    "\n",
    "print(max(scorel),([*range(21,81)][scorel.index(max(scorel))]))\n",
    "plt.figure(figsize=[20,5])\n",
    "plt.plot(range(21,81),scorel)\n",
    "plt.show()"
   ]
  },
  {
   "cell_type": "code",
   "execution_count": 40,
   "id": "2e791d5b",
   "metadata": {
    "scrolled": true
   },
   "outputs": [
    {
     "data": {
      "text/plain": [
       "GridSearchCV(cv=5,\n",
       "             estimator=RandomForestClassifier(n_estimators=27, random_state=80),\n",
       "             param_grid={'max_depth': array([ 1,  2,  3,  4,  5,  6,  7,  8,  9, 10, 11, 12, 13, 14, 15, 16, 17,\n",
       "       18, 19, 20, 21, 22, 23, 24, 25, 26, 27, 28, 29])})"
      ]
     },
     "execution_count": 40,
     "metadata": {},
     "output_type": "execute_result"
    }
   ],
   "source": [
    "param_grid = {'max_depth':np.arange(1, 30, 1)}\n",
    "rfc = RandomForestClassifier(n_estimators=27\n",
    "                             ,random_state=80\n",
    "                             )\n",
    "GS = GridSearchCV(rfc,param_grid,cv=5)\n",
    "GS.fit(x_1,y_1)"
   ]
  },
  {
   "cell_type": "code",
   "execution_count": 41,
   "id": "8e4fe8c1",
   "metadata": {},
   "outputs": [
    {
     "data": {
      "text/plain": [
       "{'max_depth': 7}"
      ]
     },
     "execution_count": 41,
     "metadata": {},
     "output_type": "execute_result"
    }
   ],
   "source": [
    "GS.best_params_"
   ]
  },
  {
   "cell_type": "code",
   "execution_count": 42,
   "id": "ed762c26",
   "metadata": {},
   "outputs": [
    {
     "data": {
      "text/plain": [
       "0.9177587247309665"
      ]
     },
     "execution_count": 42,
     "metadata": {},
     "output_type": "execute_result"
    }
   ],
   "source": [
    "GS.best_score_"
   ]
  },
  {
   "cell_type": "code",
   "execution_count": 43,
   "id": "e4d62d19",
   "metadata": {},
   "outputs": [
    {
     "data": {
      "text/plain": [
       "GridSearchCV(cv=5,\n",
       "             estimator=RandomForestClassifier(n_estimators=27, random_state=80),\n",
       "             param_grid={'max_features': array([ 1,  2,  3,  4,  5,  6,  7,  8,  9, 10, 11, 12, 13, 14, 15, 16, 17,\n",
       "       18, 19])})"
      ]
     },
     "execution_count": 43,
     "metadata": {},
     "output_type": "execute_result"
    }
   ],
   "source": [
    "param_grid = {'max_features':np.arange(1,20,1)}\n",
    "rfc = RandomForestClassifier(n_estimators=27\n",
    "                             ,random_state=80\n",
    "                             )\n",
    "GS = GridSearchCV(rfc,param_grid,cv=5)\n",
    "GS.fit(x_1,y_1)"
   ]
  },
  {
   "cell_type": "code",
   "execution_count": 44,
   "id": "5b8d2a7f",
   "metadata": {},
   "outputs": [
    {
     "data": {
      "text/plain": [
       "{'max_features': 8}"
      ]
     },
     "execution_count": 44,
     "metadata": {},
     "output_type": "execute_result"
    }
   ],
   "source": [
    "GS.best_params_"
   ]
  },
  {
   "cell_type": "code",
   "execution_count": 45,
   "id": "044f4cfa",
   "metadata": {},
   "outputs": [
    {
     "data": {
      "text/plain": [
       "0.9136645546280466"
      ]
     },
     "execution_count": 45,
     "metadata": {},
     "output_type": "execute_result"
    }
   ],
   "source": [
    "GS.best_score_"
   ]
  },
  {
   "cell_type": "code",
   "execution_count": 46,
   "id": "5b9afecb",
   "metadata": {},
   "outputs": [
    {
     "data": {
      "text/plain": [
       "GridSearchCV(cv=5,\n",
       "             estimator=RandomForestClassifier(n_estimators=27, random_state=80),\n",
       "             param_grid={'min_samples_leaf': array([ 1,  2,  3,  4,  5,  6,  7,  8,  9, 10, 11, 12, 13, 14, 15, 16, 17,\n",
       "       18, 19])})"
      ]
     },
     "execution_count": 46,
     "metadata": {},
     "output_type": "execute_result"
    }
   ],
   "source": [
    "param_grid={'min_samples_leaf':np.arange(1, 20, 1)}\n",
    "rfc = RandomForestClassifier(n_estimators=27\n",
    "                             ,random_state=80\n",
    "                             )\n",
    "GS = GridSearchCV(rfc,param_grid,cv=5)\n",
    "GS.fit(x_1,y_1)"
   ]
  },
  {
   "cell_type": "code",
   "execution_count": 47,
   "id": "d06c6f38",
   "metadata": {},
   "outputs": [
    {
     "data": {
      "text/plain": [
       "{'min_samples_leaf': 3}"
      ]
     },
     "execution_count": 47,
     "metadata": {},
     "output_type": "execute_result"
    }
   ],
   "source": [
    "GS.best_params_"
   ]
  },
  {
   "cell_type": "code",
   "execution_count": 48,
   "id": "b877f4a3",
   "metadata": {},
   "outputs": [
    {
     "data": {
      "text/plain": [
       "0.917757886620403"
      ]
     },
     "execution_count": 48,
     "metadata": {},
     "output_type": "execute_result"
    }
   ],
   "source": [
    "GS.best_score_"
   ]
  },
  {
   "cell_type": "code",
   "execution_count": 49,
   "id": "5d217c08",
   "metadata": {},
   "outputs": [
    {
     "data": {
      "text/plain": [
       "GridSearchCV(cv=5,\n",
       "             estimator=RandomForestClassifier(n_estimators=27, random_state=80),\n",
       "             param_grid={'min_samples_split': array([ 2,  3,  4,  5,  6,  7,  8,  9, 10, 11, 12, 13, 14, 15, 16, 17, 18,\n",
       "       19, 20, 21])})"
      ]
     },
     "execution_count": 49,
     "metadata": {},
     "output_type": "execute_result"
    }
   ],
   "source": [
    "param_grid={'min_samples_split':np.arange(2, 2+20, 1)}\n",
    "rfc = RandomForestClassifier(n_estimators=27\n",
    "                             ,random_state=80\n",
    "                             )\n",
    "GS = GridSearchCV(rfc,param_grid,cv=5)\n",
    "GS.fit(x_1,y_1)"
   ]
  },
  {
   "cell_type": "code",
   "execution_count": 50,
   "id": "41f2c63b",
   "metadata": {},
   "outputs": [
    {
     "data": {
      "text/plain": [
       "{'min_samples_split': 15}"
      ]
     },
     "execution_count": 50,
     "metadata": {},
     "output_type": "execute_result"
    }
   ],
   "source": [
    "GS.best_params_"
   ]
  },
  {
   "cell_type": "code",
   "execution_count": 51,
   "id": "4d44cd8d",
   "metadata": {},
   "outputs": [
    {
     "data": {
      "text/plain": [
       "0.917757886620403"
      ]
     },
     "execution_count": 51,
     "metadata": {},
     "output_type": "execute_result"
    }
   ],
   "source": [
    "GS.best_score_"
   ]
  },
  {
   "cell_type": "code",
   "execution_count": 55,
   "id": "0d8cb3a2",
   "metadata": {},
   "outputs": [
    {
     "data": {
      "text/plain": [
       "0.9177587247309665"
      ]
     },
     "execution_count": 55,
     "metadata": {},
     "output_type": "execute_result"
    }
   ],
   "source": [
    "rfc_1 = RandomForestClassifier(n_estimators=27,max_depth = 7,random_state=80)\n",
    "score_1 = cross_val_score(rfc_1,x_1,y_1,cv=5).mean()\n",
    "score_1"
   ]
  },
  {
   "cell_type": "code",
   "execution_count": 56,
   "id": "e6311425",
   "metadata": {},
   "outputs": [
    {
     "data": {
      "text/plain": [
       "0.0032761741928996058"
      ]
     },
     "execution_count": 56,
     "metadata": {},
     "output_type": "execute_result"
    }
   ],
   "source": [
    "score_1 - score_pre_1"
   ]
  },
  {
   "cell_type": "markdown",
   "id": "5dee8914",
   "metadata": {},
   "source": [
    "# Outcome modeling"
   ]
  },
  {
   "cell_type": "code",
   "execution_count": 58,
   "id": "7823ba7c",
   "metadata": {},
   "outputs": [],
   "source": [
    "from scipy import stats\n",
    "import scipy.stats"
   ]
  },
  {
   "cell_type": "code",
   "execution_count": 59,
   "id": "727458a0",
   "metadata": {},
   "outputs": [],
   "source": [
    "rfc0 = rfc_0.fit(x_0, y_0)"
   ]
  },
  {
   "cell_type": "code",
   "execution_count": 60,
   "id": "7a4faaa8",
   "metadata": {},
   "outputs": [
    {
     "data": {
      "text/plain": [
       "0.0"
      ]
     },
     "execution_count": 60,
     "metadata": {},
     "output_type": "execute_result"
    }
   ],
   "source": [
    "predict_0 = rfc0.predict(X)\n",
    "mean_0 = predict_0.mean()\n",
    "mean_0"
   ]
  },
  {
   "cell_type": "code",
   "execution_count": 61,
   "id": "a7806102",
   "metadata": {},
   "outputs": [],
   "source": [
    "rfc1 = rfc_1.fit(x_1, y_1)"
   ]
  },
  {
   "cell_type": "code",
   "execution_count": 62,
   "id": "39676bf5",
   "metadata": {},
   "outputs": [
    {
     "data": {
      "text/plain": [
       "0.0014262428687856561"
      ]
     },
     "execution_count": 62,
     "metadata": {},
     "output_type": "execute_result"
    }
   ],
   "source": [
    "predict_1 = rfc1.predict(X)\n",
    "mean_1 = predict_1.mean()\n",
    "mean_1"
   ]
  },
  {
   "cell_type": "code",
   "execution_count": 63,
   "id": "20398cf5",
   "metadata": {},
   "outputs": [
    {
     "data": {
      "text/plain": [
       "0.0014262428687856561"
      ]
     },
     "execution_count": 63,
     "metadata": {},
     "output_type": "execute_result"
    }
   ],
   "source": [
    "ATE_outcome = mean_1 - mean_0\n",
    "ATE_outcome"
   ]
  },
  {
   "cell_type": "code",
   "execution_count": 64,
   "id": "72985245",
   "metadata": {},
   "outputs": [
    {
     "name": "stdout",
     "output_type": "stream",
     "text": [
      "-2.6473703329260934 0.004068989309135414\n"
     ]
    }
   ],
   "source": [
    "t,pval = scipy.stats.ttest_ind(predict_0,predict_1,equal_var=False,alternative='less')\n",
    "print(t,pval)"
   ]
  }
 ],
 "metadata": {
  "kernelspec": {
   "display_name": "Python 3 (ipykernel)",
   "language": "python",
   "name": "python3"
  },
  "language_info": {
   "codemirror_mode": {
    "name": "ipython",
    "version": 3
   },
   "file_extension": ".py",
   "mimetype": "text/x-python",
   "name": "python",
   "nbconvert_exporter": "python",
   "pygments_lexer": "ipython3",
   "version": "3.9.12"
  }
 },
 "nbformat": 4,
 "nbformat_minor": 5
}
