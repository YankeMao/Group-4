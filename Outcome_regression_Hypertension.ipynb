{
 "cells": [
  {
   "cell_type": "code",
   "execution_count": 1,
   "id": "5563f26c",
   "metadata": {},
   "outputs": [],
   "source": [
    "import pandas as pd\n",
    "import numpy as np\n",
    "import warnings\n",
    "warnings.filterwarnings('ignore')"
   ]
  },
  {
   "cell_type": "code",
   "execution_count": 2,
   "id": "d4d8a4d4",
   "metadata": {},
   "outputs": [],
   "source": [
    "df_raw = pd.read_csv('./stroke_data_dummies.csv')"
   ]
  },
  {
   "cell_type": "code",
   "execution_count": 3,
   "id": "bb60236f",
   "metadata": {},
   "outputs": [],
   "source": [
    "df_r = df_raw[df_raw.Gender_Other == 0]"
   ]
  },
  {
   "cell_type": "code",
   "execution_count": 4,
   "id": "d940fa27",
   "metadata": {},
   "outputs": [],
   "source": [
    "df = df_r.drop(columns = ['Unnamed: 0','id','Obesity','Gender_Other'])"
   ]
  },
  {
   "cell_type": "code",
   "execution_count": 5,
   "id": "0e652b83",
   "metadata": {},
   "outputs": [
    {
     "data": {
      "text/html": [
       "<div>\n",
       "<style scoped>\n",
       "    .dataframe tbody tr th:only-of-type {\n",
       "        vertical-align: middle;\n",
       "    }\n",
       "\n",
       "    .dataframe tbody tr th {\n",
       "        vertical-align: top;\n",
       "    }\n",
       "\n",
       "    .dataframe thead th {\n",
       "        text-align: right;\n",
       "    }\n",
       "</style>\n",
       "<table border=\"1\" class=\"dataframe\">\n",
       "  <thead>\n",
       "    <tr style=\"text-align: right;\">\n",
       "      <th></th>\n",
       "      <th>age</th>\n",
       "      <th>hypertension</th>\n",
       "      <th>heart_disease</th>\n",
       "      <th>avg_glucose_level</th>\n",
       "      <th>bmi</th>\n",
       "      <th>stroke</th>\n",
       "      <th>marriage</th>\n",
       "      <th>Gender_Female</th>\n",
       "      <th>Gender_Male</th>\n",
       "      <th>Work_Govt_job</th>\n",
       "      <th>Work_Never_worked</th>\n",
       "      <th>Work_Private</th>\n",
       "      <th>Work_Self-employed</th>\n",
       "      <th>Work_children</th>\n",
       "      <th>smoking_Unknown</th>\n",
       "      <th>smoking_formerly smoked</th>\n",
       "      <th>smoking_never smoked</th>\n",
       "      <th>smoking_smokes</th>\n",
       "      <th>Residence_Rural</th>\n",
       "      <th>Residence_Urban</th>\n",
       "    </tr>\n",
       "  </thead>\n",
       "  <tbody>\n",
       "    <tr>\n",
       "      <th>0</th>\n",
       "      <td>67.0</td>\n",
       "      <td>0</td>\n",
       "      <td>1</td>\n",
       "      <td>228.69</td>\n",
       "      <td>36.6</td>\n",
       "      <td>1</td>\n",
       "      <td>1</td>\n",
       "      <td>0</td>\n",
       "      <td>1</td>\n",
       "      <td>0</td>\n",
       "      <td>0</td>\n",
       "      <td>1</td>\n",
       "      <td>0</td>\n",
       "      <td>0</td>\n",
       "      <td>0</td>\n",
       "      <td>1</td>\n",
       "      <td>0</td>\n",
       "      <td>0</td>\n",
       "      <td>0</td>\n",
       "      <td>1</td>\n",
       "    </tr>\n",
       "    <tr>\n",
       "      <th>1</th>\n",
       "      <td>80.0</td>\n",
       "      <td>0</td>\n",
       "      <td>1</td>\n",
       "      <td>105.92</td>\n",
       "      <td>32.5</td>\n",
       "      <td>1</td>\n",
       "      <td>1</td>\n",
       "      <td>0</td>\n",
       "      <td>1</td>\n",
       "      <td>0</td>\n",
       "      <td>0</td>\n",
       "      <td>1</td>\n",
       "      <td>0</td>\n",
       "      <td>0</td>\n",
       "      <td>0</td>\n",
       "      <td>0</td>\n",
       "      <td>1</td>\n",
       "      <td>0</td>\n",
       "      <td>1</td>\n",
       "      <td>0</td>\n",
       "    </tr>\n",
       "    <tr>\n",
       "      <th>2</th>\n",
       "      <td>49.0</td>\n",
       "      <td>0</td>\n",
       "      <td>0</td>\n",
       "      <td>171.23</td>\n",
       "      <td>34.4</td>\n",
       "      <td>1</td>\n",
       "      <td>1</td>\n",
       "      <td>1</td>\n",
       "      <td>0</td>\n",
       "      <td>0</td>\n",
       "      <td>0</td>\n",
       "      <td>1</td>\n",
       "      <td>0</td>\n",
       "      <td>0</td>\n",
       "      <td>0</td>\n",
       "      <td>0</td>\n",
       "      <td>0</td>\n",
       "      <td>1</td>\n",
       "      <td>0</td>\n",
       "      <td>1</td>\n",
       "    </tr>\n",
       "    <tr>\n",
       "      <th>3</th>\n",
       "      <td>79.0</td>\n",
       "      <td>1</td>\n",
       "      <td>0</td>\n",
       "      <td>174.12</td>\n",
       "      <td>24.0</td>\n",
       "      <td>1</td>\n",
       "      <td>1</td>\n",
       "      <td>1</td>\n",
       "      <td>0</td>\n",
       "      <td>0</td>\n",
       "      <td>0</td>\n",
       "      <td>0</td>\n",
       "      <td>1</td>\n",
       "      <td>0</td>\n",
       "      <td>0</td>\n",
       "      <td>0</td>\n",
       "      <td>1</td>\n",
       "      <td>0</td>\n",
       "      <td>1</td>\n",
       "      <td>0</td>\n",
       "    </tr>\n",
       "    <tr>\n",
       "      <th>4</th>\n",
       "      <td>81.0</td>\n",
       "      <td>0</td>\n",
       "      <td>0</td>\n",
       "      <td>186.21</td>\n",
       "      <td>29.0</td>\n",
       "      <td>1</td>\n",
       "      <td>1</td>\n",
       "      <td>0</td>\n",
       "      <td>1</td>\n",
       "      <td>0</td>\n",
       "      <td>0</td>\n",
       "      <td>1</td>\n",
       "      <td>0</td>\n",
       "      <td>0</td>\n",
       "      <td>0</td>\n",
       "      <td>1</td>\n",
       "      <td>0</td>\n",
       "      <td>0</td>\n",
       "      <td>0</td>\n",
       "      <td>1</td>\n",
       "    </tr>\n",
       "  </tbody>\n",
       "</table>\n",
       "</div>"
      ],
      "text/plain": [
       "    age  hypertension  heart_disease  avg_glucose_level   bmi  stroke  \\\n",
       "0  67.0             0              1             228.69  36.6       1   \n",
       "1  80.0             0              1             105.92  32.5       1   \n",
       "2  49.0             0              0             171.23  34.4       1   \n",
       "3  79.0             1              0             174.12  24.0       1   \n",
       "4  81.0             0              0             186.21  29.0       1   \n",
       "\n",
       "   marriage  Gender_Female  Gender_Male  Work_Govt_job  Work_Never_worked  \\\n",
       "0         1              0            1              0                  0   \n",
       "1         1              0            1              0                  0   \n",
       "2         1              1            0              0                  0   \n",
       "3         1              1            0              0                  0   \n",
       "4         1              0            1              0                  0   \n",
       "\n",
       "   Work_Private  Work_Self-employed  Work_children  smoking_Unknown  \\\n",
       "0             1                   0              0                0   \n",
       "1             1                   0              0                0   \n",
       "2             1                   0              0                0   \n",
       "3             0                   1              0                0   \n",
       "4             1                   0              0                0   \n",
       "\n",
       "   smoking_formerly smoked  smoking_never smoked  smoking_smokes  \\\n",
       "0                        1                     0               0   \n",
       "1                        0                     1               0   \n",
       "2                        0                     0               1   \n",
       "3                        0                     1               0   \n",
       "4                        1                     0               0   \n",
       "\n",
       "   Residence_Rural  Residence_Urban  \n",
       "0                0                1  \n",
       "1                1                0  \n",
       "2                0                1  \n",
       "3                1                0  \n",
       "4                0                1  "
      ]
     },
     "execution_count": 5,
     "metadata": {},
     "output_type": "execute_result"
    }
   ],
   "source": [
    "df.head()"
   ]
  },
  {
   "cell_type": "code",
   "execution_count": 6,
   "id": "09a10860",
   "metadata": {},
   "outputs": [
    {
     "data": {
      "text/html": [
       "<div>\n",
       "<style scoped>\n",
       "    .dataframe tbody tr th:only-of-type {\n",
       "        vertical-align: middle;\n",
       "    }\n",
       "\n",
       "    .dataframe tbody tr th {\n",
       "        vertical-align: top;\n",
       "    }\n",
       "\n",
       "    .dataframe thead th {\n",
       "        text-align: right;\n",
       "    }\n",
       "</style>\n",
       "<table border=\"1\" class=\"dataframe\">\n",
       "  <thead>\n",
       "    <tr style=\"text-align: right;\">\n",
       "      <th></th>\n",
       "      <th>age</th>\n",
       "      <th>heart_disease</th>\n",
       "      <th>avg_glucose_level</th>\n",
       "      <th>bmi</th>\n",
       "      <th>marriage</th>\n",
       "      <th>Gender_Female</th>\n",
       "      <th>Gender_Male</th>\n",
       "      <th>Work_Govt_job</th>\n",
       "      <th>Work_Never_worked</th>\n",
       "      <th>Work_Private</th>\n",
       "      <th>Work_Self-employed</th>\n",
       "      <th>Work_children</th>\n",
       "      <th>smoking_Unknown</th>\n",
       "      <th>smoking_formerly smoked</th>\n",
       "      <th>smoking_never smoked</th>\n",
       "      <th>smoking_smokes</th>\n",
       "      <th>Residence_Rural</th>\n",
       "      <th>Residence_Urban</th>\n",
       "    </tr>\n",
       "  </thead>\n",
       "  <tbody>\n",
       "    <tr>\n",
       "      <th>0</th>\n",
       "      <td>67.0</td>\n",
       "      <td>1</td>\n",
       "      <td>228.69</td>\n",
       "      <td>36.6</td>\n",
       "      <td>1</td>\n",
       "      <td>0</td>\n",
       "      <td>1</td>\n",
       "      <td>0</td>\n",
       "      <td>0</td>\n",
       "      <td>1</td>\n",
       "      <td>0</td>\n",
       "      <td>0</td>\n",
       "      <td>0</td>\n",
       "      <td>1</td>\n",
       "      <td>0</td>\n",
       "      <td>0</td>\n",
       "      <td>0</td>\n",
       "      <td>1</td>\n",
       "    </tr>\n",
       "    <tr>\n",
       "      <th>1</th>\n",
       "      <td>80.0</td>\n",
       "      <td>1</td>\n",
       "      <td>105.92</td>\n",
       "      <td>32.5</td>\n",
       "      <td>1</td>\n",
       "      <td>0</td>\n",
       "      <td>1</td>\n",
       "      <td>0</td>\n",
       "      <td>0</td>\n",
       "      <td>1</td>\n",
       "      <td>0</td>\n",
       "      <td>0</td>\n",
       "      <td>0</td>\n",
       "      <td>0</td>\n",
       "      <td>1</td>\n",
       "      <td>0</td>\n",
       "      <td>1</td>\n",
       "      <td>0</td>\n",
       "    </tr>\n",
       "    <tr>\n",
       "      <th>2</th>\n",
       "      <td>49.0</td>\n",
       "      <td>0</td>\n",
       "      <td>171.23</td>\n",
       "      <td>34.4</td>\n",
       "      <td>1</td>\n",
       "      <td>1</td>\n",
       "      <td>0</td>\n",
       "      <td>0</td>\n",
       "      <td>0</td>\n",
       "      <td>1</td>\n",
       "      <td>0</td>\n",
       "      <td>0</td>\n",
       "      <td>0</td>\n",
       "      <td>0</td>\n",
       "      <td>0</td>\n",
       "      <td>1</td>\n",
       "      <td>0</td>\n",
       "      <td>1</td>\n",
       "    </tr>\n",
       "    <tr>\n",
       "      <th>3</th>\n",
       "      <td>79.0</td>\n",
       "      <td>0</td>\n",
       "      <td>174.12</td>\n",
       "      <td>24.0</td>\n",
       "      <td>1</td>\n",
       "      <td>1</td>\n",
       "      <td>0</td>\n",
       "      <td>0</td>\n",
       "      <td>0</td>\n",
       "      <td>0</td>\n",
       "      <td>1</td>\n",
       "      <td>0</td>\n",
       "      <td>0</td>\n",
       "      <td>0</td>\n",
       "      <td>1</td>\n",
       "      <td>0</td>\n",
       "      <td>1</td>\n",
       "      <td>0</td>\n",
       "    </tr>\n",
       "    <tr>\n",
       "      <th>4</th>\n",
       "      <td>81.0</td>\n",
       "      <td>0</td>\n",
       "      <td>186.21</td>\n",
       "      <td>29.0</td>\n",
       "      <td>1</td>\n",
       "      <td>0</td>\n",
       "      <td>1</td>\n",
       "      <td>0</td>\n",
       "      <td>0</td>\n",
       "      <td>1</td>\n",
       "      <td>0</td>\n",
       "      <td>0</td>\n",
       "      <td>0</td>\n",
       "      <td>1</td>\n",
       "      <td>0</td>\n",
       "      <td>0</td>\n",
       "      <td>0</td>\n",
       "      <td>1</td>\n",
       "    </tr>\n",
       "    <tr>\n",
       "      <th>...</th>\n",
       "      <td>...</td>\n",
       "      <td>...</td>\n",
       "      <td>...</td>\n",
       "      <td>...</td>\n",
       "      <td>...</td>\n",
       "      <td>...</td>\n",
       "      <td>...</td>\n",
       "      <td>...</td>\n",
       "      <td>...</td>\n",
       "      <td>...</td>\n",
       "      <td>...</td>\n",
       "      <td>...</td>\n",
       "      <td>...</td>\n",
       "      <td>...</td>\n",
       "      <td>...</td>\n",
       "      <td>...</td>\n",
       "      <td>...</td>\n",
       "      <td>...</td>\n",
       "    </tr>\n",
       "    <tr>\n",
       "      <th>4904</th>\n",
       "      <td>13.0</td>\n",
       "      <td>0</td>\n",
       "      <td>103.08</td>\n",
       "      <td>18.6</td>\n",
       "      <td>0</td>\n",
       "      <td>1</td>\n",
       "      <td>0</td>\n",
       "      <td>0</td>\n",
       "      <td>0</td>\n",
       "      <td>0</td>\n",
       "      <td>0</td>\n",
       "      <td>1</td>\n",
       "      <td>1</td>\n",
       "      <td>0</td>\n",
       "      <td>0</td>\n",
       "      <td>0</td>\n",
       "      <td>1</td>\n",
       "      <td>0</td>\n",
       "    </tr>\n",
       "    <tr>\n",
       "      <th>4905</th>\n",
       "      <td>81.0</td>\n",
       "      <td>0</td>\n",
       "      <td>125.20</td>\n",
       "      <td>40.0</td>\n",
       "      <td>1</td>\n",
       "      <td>1</td>\n",
       "      <td>0</td>\n",
       "      <td>0</td>\n",
       "      <td>0</td>\n",
       "      <td>0</td>\n",
       "      <td>1</td>\n",
       "      <td>0</td>\n",
       "      <td>0</td>\n",
       "      <td>0</td>\n",
       "      <td>1</td>\n",
       "      <td>0</td>\n",
       "      <td>0</td>\n",
       "      <td>1</td>\n",
       "    </tr>\n",
       "    <tr>\n",
       "      <th>4906</th>\n",
       "      <td>35.0</td>\n",
       "      <td>0</td>\n",
       "      <td>82.99</td>\n",
       "      <td>30.6</td>\n",
       "      <td>1</td>\n",
       "      <td>1</td>\n",
       "      <td>0</td>\n",
       "      <td>0</td>\n",
       "      <td>0</td>\n",
       "      <td>0</td>\n",
       "      <td>1</td>\n",
       "      <td>0</td>\n",
       "      <td>0</td>\n",
       "      <td>0</td>\n",
       "      <td>1</td>\n",
       "      <td>0</td>\n",
       "      <td>1</td>\n",
       "      <td>0</td>\n",
       "    </tr>\n",
       "    <tr>\n",
       "      <th>4907</th>\n",
       "      <td>51.0</td>\n",
       "      <td>0</td>\n",
       "      <td>166.29</td>\n",
       "      <td>25.6</td>\n",
       "      <td>1</td>\n",
       "      <td>0</td>\n",
       "      <td>1</td>\n",
       "      <td>0</td>\n",
       "      <td>0</td>\n",
       "      <td>1</td>\n",
       "      <td>0</td>\n",
       "      <td>0</td>\n",
       "      <td>0</td>\n",
       "      <td>1</td>\n",
       "      <td>0</td>\n",
       "      <td>0</td>\n",
       "      <td>1</td>\n",
       "      <td>0</td>\n",
       "    </tr>\n",
       "    <tr>\n",
       "      <th>4908</th>\n",
       "      <td>44.0</td>\n",
       "      <td>0</td>\n",
       "      <td>85.28</td>\n",
       "      <td>26.2</td>\n",
       "      <td>1</td>\n",
       "      <td>1</td>\n",
       "      <td>0</td>\n",
       "      <td>1</td>\n",
       "      <td>0</td>\n",
       "      <td>0</td>\n",
       "      <td>0</td>\n",
       "      <td>0</td>\n",
       "      <td>1</td>\n",
       "      <td>0</td>\n",
       "      <td>0</td>\n",
       "      <td>0</td>\n",
       "      <td>0</td>\n",
       "      <td>1</td>\n",
       "    </tr>\n",
       "  </tbody>\n",
       "</table>\n",
       "<p>4908 rows × 18 columns</p>\n",
       "</div>"
      ],
      "text/plain": [
       "       age  heart_disease  avg_glucose_level   bmi  marriage  Gender_Female  \\\n",
       "0     67.0              1             228.69  36.6         1              0   \n",
       "1     80.0              1             105.92  32.5         1              0   \n",
       "2     49.0              0             171.23  34.4         1              1   \n",
       "3     79.0              0             174.12  24.0         1              1   \n",
       "4     81.0              0             186.21  29.0         1              0   \n",
       "...    ...            ...                ...   ...       ...            ...   \n",
       "4904  13.0              0             103.08  18.6         0              1   \n",
       "4905  81.0              0             125.20  40.0         1              1   \n",
       "4906  35.0              0              82.99  30.6         1              1   \n",
       "4907  51.0              0             166.29  25.6         1              0   \n",
       "4908  44.0              0              85.28  26.2         1              1   \n",
       "\n",
       "      Gender_Male  Work_Govt_job  Work_Never_worked  Work_Private  \\\n",
       "0               1              0                  0             1   \n",
       "1               1              0                  0             1   \n",
       "2               0              0                  0             1   \n",
       "3               0              0                  0             0   \n",
       "4               1              0                  0             1   \n",
       "...           ...            ...                ...           ...   \n",
       "4904            0              0                  0             0   \n",
       "4905            0              0                  0             0   \n",
       "4906            0              0                  0             0   \n",
       "4907            1              0                  0             1   \n",
       "4908            0              1                  0             0   \n",
       "\n",
       "      Work_Self-employed  Work_children  smoking_Unknown  \\\n",
       "0                      0              0                0   \n",
       "1                      0              0                0   \n",
       "2                      0              0                0   \n",
       "3                      1              0                0   \n",
       "4                      0              0                0   \n",
       "...                  ...            ...              ...   \n",
       "4904                   0              1                1   \n",
       "4905                   1              0                0   \n",
       "4906                   1              0                0   \n",
       "4907                   0              0                0   \n",
       "4908                   0              0                1   \n",
       "\n",
       "      smoking_formerly smoked  smoking_never smoked  smoking_smokes  \\\n",
       "0                           1                     0               0   \n",
       "1                           0                     1               0   \n",
       "2                           0                     0               1   \n",
       "3                           0                     1               0   \n",
       "4                           1                     0               0   \n",
       "...                       ...                   ...             ...   \n",
       "4904                        0                     0               0   \n",
       "4905                        0                     1               0   \n",
       "4906                        0                     1               0   \n",
       "4907                        1                     0               0   \n",
       "4908                        0                     0               0   \n",
       "\n",
       "      Residence_Rural  Residence_Urban  \n",
       "0                   0                1  \n",
       "1                   1                0  \n",
       "2                   0                1  \n",
       "3                   1                0  \n",
       "4                   0                1  \n",
       "...               ...              ...  \n",
       "4904                1                0  \n",
       "4905                0                1  \n",
       "4906                1                0  \n",
       "4907                1                0  \n",
       "4908                0                1  \n",
       "\n",
       "[4908 rows x 18 columns]"
      ]
     },
     "execution_count": 6,
     "metadata": {},
     "output_type": "execute_result"
    }
   ],
   "source": [
    "X = df.drop(columns = ['stroke', 'hypertension'])\n",
    "X"
   ]
  },
  {
   "cell_type": "code",
   "execution_count": 7,
   "id": "7cdff4d9",
   "metadata": {
    "scrolled": false
   },
   "outputs": [
    {
     "data": {
      "text/html": [
       "<div>\n",
       "<style scoped>\n",
       "    .dataframe tbody tr th:only-of-type {\n",
       "        vertical-align: middle;\n",
       "    }\n",
       "\n",
       "    .dataframe tbody tr th {\n",
       "        vertical-align: top;\n",
       "    }\n",
       "\n",
       "    .dataframe thead th {\n",
       "        text-align: right;\n",
       "    }\n",
       "</style>\n",
       "<table border=\"1\" class=\"dataframe\">\n",
       "  <thead>\n",
       "    <tr style=\"text-align: right;\">\n",
       "      <th></th>\n",
       "      <th>age</th>\n",
       "      <th>heart_disease</th>\n",
       "      <th>avg_glucose_level</th>\n",
       "      <th>bmi</th>\n",
       "      <th>stroke</th>\n",
       "      <th>marriage</th>\n",
       "      <th>Gender_Female</th>\n",
       "      <th>Gender_Male</th>\n",
       "      <th>Work_Govt_job</th>\n",
       "      <th>Work_Never_worked</th>\n",
       "      <th>Work_Private</th>\n",
       "      <th>Work_Self-employed</th>\n",
       "      <th>Work_children</th>\n",
       "      <th>smoking_Unknown</th>\n",
       "      <th>smoking_formerly smoked</th>\n",
       "      <th>smoking_never smoked</th>\n",
       "      <th>smoking_smokes</th>\n",
       "      <th>Residence_Rural</th>\n",
       "      <th>Residence_Urban</th>\n",
       "    </tr>\n",
       "  </thead>\n",
       "  <tbody>\n",
       "    <tr>\n",
       "      <th>0</th>\n",
       "      <td>67.0</td>\n",
       "      <td>1</td>\n",
       "      <td>228.69</td>\n",
       "      <td>36.6</td>\n",
       "      <td>1</td>\n",
       "      <td>1</td>\n",
       "      <td>0</td>\n",
       "      <td>1</td>\n",
       "      <td>0</td>\n",
       "      <td>0</td>\n",
       "      <td>1</td>\n",
       "      <td>0</td>\n",
       "      <td>0</td>\n",
       "      <td>0</td>\n",
       "      <td>1</td>\n",
       "      <td>0</td>\n",
       "      <td>0</td>\n",
       "      <td>0</td>\n",
       "      <td>1</td>\n",
       "    </tr>\n",
       "    <tr>\n",
       "      <th>1</th>\n",
       "      <td>80.0</td>\n",
       "      <td>1</td>\n",
       "      <td>105.92</td>\n",
       "      <td>32.5</td>\n",
       "      <td>1</td>\n",
       "      <td>1</td>\n",
       "      <td>0</td>\n",
       "      <td>1</td>\n",
       "      <td>0</td>\n",
       "      <td>0</td>\n",
       "      <td>1</td>\n",
       "      <td>0</td>\n",
       "      <td>0</td>\n",
       "      <td>0</td>\n",
       "      <td>0</td>\n",
       "      <td>1</td>\n",
       "      <td>0</td>\n",
       "      <td>1</td>\n",
       "      <td>0</td>\n",
       "    </tr>\n",
       "    <tr>\n",
       "      <th>2</th>\n",
       "      <td>49.0</td>\n",
       "      <td>0</td>\n",
       "      <td>171.23</td>\n",
       "      <td>34.4</td>\n",
       "      <td>1</td>\n",
       "      <td>1</td>\n",
       "      <td>1</td>\n",
       "      <td>0</td>\n",
       "      <td>0</td>\n",
       "      <td>0</td>\n",
       "      <td>1</td>\n",
       "      <td>0</td>\n",
       "      <td>0</td>\n",
       "      <td>0</td>\n",
       "      <td>0</td>\n",
       "      <td>0</td>\n",
       "      <td>1</td>\n",
       "      <td>0</td>\n",
       "      <td>1</td>\n",
       "    </tr>\n",
       "    <tr>\n",
       "      <th>4</th>\n",
       "      <td>81.0</td>\n",
       "      <td>0</td>\n",
       "      <td>186.21</td>\n",
       "      <td>29.0</td>\n",
       "      <td>1</td>\n",
       "      <td>1</td>\n",
       "      <td>0</td>\n",
       "      <td>1</td>\n",
       "      <td>0</td>\n",
       "      <td>0</td>\n",
       "      <td>1</td>\n",
       "      <td>0</td>\n",
       "      <td>0</td>\n",
       "      <td>0</td>\n",
       "      <td>1</td>\n",
       "      <td>0</td>\n",
       "      <td>0</td>\n",
       "      <td>0</td>\n",
       "      <td>1</td>\n",
       "    </tr>\n",
       "    <tr>\n",
       "      <th>6</th>\n",
       "      <td>69.0</td>\n",
       "      <td>0</td>\n",
       "      <td>94.39</td>\n",
       "      <td>22.8</td>\n",
       "      <td>1</td>\n",
       "      <td>0</td>\n",
       "      <td>1</td>\n",
       "      <td>0</td>\n",
       "      <td>0</td>\n",
       "      <td>0</td>\n",
       "      <td>1</td>\n",
       "      <td>0</td>\n",
       "      <td>0</td>\n",
       "      <td>0</td>\n",
       "      <td>0</td>\n",
       "      <td>1</td>\n",
       "      <td>0</td>\n",
       "      <td>0</td>\n",
       "      <td>1</td>\n",
       "    </tr>\n",
       "    <tr>\n",
       "      <th>...</th>\n",
       "      <td>...</td>\n",
       "      <td>...</td>\n",
       "      <td>...</td>\n",
       "      <td>...</td>\n",
       "      <td>...</td>\n",
       "      <td>...</td>\n",
       "      <td>...</td>\n",
       "      <td>...</td>\n",
       "      <td>...</td>\n",
       "      <td>...</td>\n",
       "      <td>...</td>\n",
       "      <td>...</td>\n",
       "      <td>...</td>\n",
       "      <td>...</td>\n",
       "      <td>...</td>\n",
       "      <td>...</td>\n",
       "      <td>...</td>\n",
       "      <td>...</td>\n",
       "      <td>...</td>\n",
       "    </tr>\n",
       "    <tr>\n",
       "      <th>4904</th>\n",
       "      <td>13.0</td>\n",
       "      <td>0</td>\n",
       "      <td>103.08</td>\n",
       "      <td>18.6</td>\n",
       "      <td>0</td>\n",
       "      <td>0</td>\n",
       "      <td>1</td>\n",
       "      <td>0</td>\n",
       "      <td>0</td>\n",
       "      <td>0</td>\n",
       "      <td>0</td>\n",
       "      <td>0</td>\n",
       "      <td>1</td>\n",
       "      <td>1</td>\n",
       "      <td>0</td>\n",
       "      <td>0</td>\n",
       "      <td>0</td>\n",
       "      <td>1</td>\n",
       "      <td>0</td>\n",
       "    </tr>\n",
       "    <tr>\n",
       "      <th>4905</th>\n",
       "      <td>81.0</td>\n",
       "      <td>0</td>\n",
       "      <td>125.20</td>\n",
       "      <td>40.0</td>\n",
       "      <td>0</td>\n",
       "      <td>1</td>\n",
       "      <td>1</td>\n",
       "      <td>0</td>\n",
       "      <td>0</td>\n",
       "      <td>0</td>\n",
       "      <td>0</td>\n",
       "      <td>1</td>\n",
       "      <td>0</td>\n",
       "      <td>0</td>\n",
       "      <td>0</td>\n",
       "      <td>1</td>\n",
       "      <td>0</td>\n",
       "      <td>0</td>\n",
       "      <td>1</td>\n",
       "    </tr>\n",
       "    <tr>\n",
       "      <th>4906</th>\n",
       "      <td>35.0</td>\n",
       "      <td>0</td>\n",
       "      <td>82.99</td>\n",
       "      <td>30.6</td>\n",
       "      <td>0</td>\n",
       "      <td>1</td>\n",
       "      <td>1</td>\n",
       "      <td>0</td>\n",
       "      <td>0</td>\n",
       "      <td>0</td>\n",
       "      <td>0</td>\n",
       "      <td>1</td>\n",
       "      <td>0</td>\n",
       "      <td>0</td>\n",
       "      <td>0</td>\n",
       "      <td>1</td>\n",
       "      <td>0</td>\n",
       "      <td>1</td>\n",
       "      <td>0</td>\n",
       "    </tr>\n",
       "    <tr>\n",
       "      <th>4907</th>\n",
       "      <td>51.0</td>\n",
       "      <td>0</td>\n",
       "      <td>166.29</td>\n",
       "      <td>25.6</td>\n",
       "      <td>0</td>\n",
       "      <td>1</td>\n",
       "      <td>0</td>\n",
       "      <td>1</td>\n",
       "      <td>0</td>\n",
       "      <td>0</td>\n",
       "      <td>1</td>\n",
       "      <td>0</td>\n",
       "      <td>0</td>\n",
       "      <td>0</td>\n",
       "      <td>1</td>\n",
       "      <td>0</td>\n",
       "      <td>0</td>\n",
       "      <td>1</td>\n",
       "      <td>0</td>\n",
       "    </tr>\n",
       "    <tr>\n",
       "      <th>4908</th>\n",
       "      <td>44.0</td>\n",
       "      <td>0</td>\n",
       "      <td>85.28</td>\n",
       "      <td>26.2</td>\n",
       "      <td>0</td>\n",
       "      <td>1</td>\n",
       "      <td>1</td>\n",
       "      <td>0</td>\n",
       "      <td>1</td>\n",
       "      <td>0</td>\n",
       "      <td>0</td>\n",
       "      <td>0</td>\n",
       "      <td>0</td>\n",
       "      <td>1</td>\n",
       "      <td>0</td>\n",
       "      <td>0</td>\n",
       "      <td>0</td>\n",
       "      <td>0</td>\n",
       "      <td>1</td>\n",
       "    </tr>\n",
       "  </tbody>\n",
       "</table>\n",
       "<p>4457 rows × 19 columns</p>\n",
       "</div>"
      ],
      "text/plain": [
       "       age  heart_disease  avg_glucose_level   bmi  stroke  marriage  \\\n",
       "0     67.0              1             228.69  36.6       1         1   \n",
       "1     80.0              1             105.92  32.5       1         1   \n",
       "2     49.0              0             171.23  34.4       1         1   \n",
       "4     81.0              0             186.21  29.0       1         1   \n",
       "6     69.0              0              94.39  22.8       1         0   \n",
       "...    ...            ...                ...   ...     ...       ...   \n",
       "4904  13.0              0             103.08  18.6       0         0   \n",
       "4905  81.0              0             125.20  40.0       0         1   \n",
       "4906  35.0              0              82.99  30.6       0         1   \n",
       "4907  51.0              0             166.29  25.6       0         1   \n",
       "4908  44.0              0              85.28  26.2       0         1   \n",
       "\n",
       "      Gender_Female  Gender_Male  Work_Govt_job  Work_Never_worked  \\\n",
       "0                 0            1              0                  0   \n",
       "1                 0            1              0                  0   \n",
       "2                 1            0              0                  0   \n",
       "4                 0            1              0                  0   \n",
       "6                 1            0              0                  0   \n",
       "...             ...          ...            ...                ...   \n",
       "4904              1            0              0                  0   \n",
       "4905              1            0              0                  0   \n",
       "4906              1            0              0                  0   \n",
       "4907              0            1              0                  0   \n",
       "4908              1            0              1                  0   \n",
       "\n",
       "      Work_Private  Work_Self-employed  Work_children  smoking_Unknown  \\\n",
       "0                1                   0              0                0   \n",
       "1                1                   0              0                0   \n",
       "2                1                   0              0                0   \n",
       "4                1                   0              0                0   \n",
       "6                1                   0              0                0   \n",
       "...            ...                 ...            ...              ...   \n",
       "4904             0                   0              1                1   \n",
       "4905             0                   1              0                0   \n",
       "4906             0                   1              0                0   \n",
       "4907             1                   0              0                0   \n",
       "4908             0                   0              0                1   \n",
       "\n",
       "      smoking_formerly smoked  smoking_never smoked  smoking_smokes  \\\n",
       "0                           1                     0               0   \n",
       "1                           0                     1               0   \n",
       "2                           0                     0               1   \n",
       "4                           1                     0               0   \n",
       "6                           0                     1               0   \n",
       "...                       ...                   ...             ...   \n",
       "4904                        0                     0               0   \n",
       "4905                        0                     1               0   \n",
       "4906                        0                     1               0   \n",
       "4907                        1                     0               0   \n",
       "4908                        0                     0               0   \n",
       "\n",
       "      Residence_Rural  Residence_Urban  \n",
       "0                   0                1  \n",
       "1                   1                0  \n",
       "2                   0                1  \n",
       "4                   0                1  \n",
       "6                   0                1  \n",
       "...               ...              ...  \n",
       "4904                1                0  \n",
       "4905                0                1  \n",
       "4906                1                0  \n",
       "4907                1                0  \n",
       "4908                0                1  \n",
       "\n",
       "[4457 rows x 19 columns]"
      ]
     },
     "execution_count": 7,
     "metadata": {},
     "output_type": "execute_result"
    }
   ],
   "source": [
    "df_0 = df[df['hypertension'] == 0]\n",
    "df_0 = df_0.drop(columns = ['hypertension'])\n",
    "df_0"
   ]
  },
  {
   "cell_type": "code",
   "execution_count": 8,
   "id": "f4d3b7a0",
   "metadata": {},
   "outputs": [
    {
     "data": {
      "text/html": [
       "<div>\n",
       "<style scoped>\n",
       "    .dataframe tbody tr th:only-of-type {\n",
       "        vertical-align: middle;\n",
       "    }\n",
       "\n",
       "    .dataframe tbody tr th {\n",
       "        vertical-align: top;\n",
       "    }\n",
       "\n",
       "    .dataframe thead th {\n",
       "        text-align: right;\n",
       "    }\n",
       "</style>\n",
       "<table border=\"1\" class=\"dataframe\">\n",
       "  <thead>\n",
       "    <tr style=\"text-align: right;\">\n",
       "      <th></th>\n",
       "      <th>age</th>\n",
       "      <th>heart_disease</th>\n",
       "      <th>avg_glucose_level</th>\n",
       "      <th>bmi</th>\n",
       "      <th>stroke</th>\n",
       "      <th>marriage</th>\n",
       "      <th>Gender_Female</th>\n",
       "      <th>Gender_Male</th>\n",
       "      <th>Work_Govt_job</th>\n",
       "      <th>Work_Never_worked</th>\n",
       "      <th>Work_Private</th>\n",
       "      <th>Work_Self-employed</th>\n",
       "      <th>Work_children</th>\n",
       "      <th>smoking_Unknown</th>\n",
       "      <th>smoking_formerly smoked</th>\n",
       "      <th>smoking_never smoked</th>\n",
       "      <th>smoking_smokes</th>\n",
       "      <th>Residence_Rural</th>\n",
       "      <th>Residence_Urban</th>\n",
       "    </tr>\n",
       "  </thead>\n",
       "  <tbody>\n",
       "    <tr>\n",
       "      <th>3</th>\n",
       "      <td>79.0</td>\n",
       "      <td>0</td>\n",
       "      <td>174.12</td>\n",
       "      <td>24.0</td>\n",
       "      <td>1</td>\n",
       "      <td>1</td>\n",
       "      <td>1</td>\n",
       "      <td>0</td>\n",
       "      <td>0</td>\n",
       "      <td>0</td>\n",
       "      <td>0</td>\n",
       "      <td>1</td>\n",
       "      <td>0</td>\n",
       "      <td>0</td>\n",
       "      <td>0</td>\n",
       "      <td>1</td>\n",
       "      <td>0</td>\n",
       "      <td>1</td>\n",
       "      <td>0</td>\n",
       "    </tr>\n",
       "    <tr>\n",
       "      <th>5</th>\n",
       "      <td>74.0</td>\n",
       "      <td>1</td>\n",
       "      <td>70.09</td>\n",
       "      <td>27.4</td>\n",
       "      <td>1</td>\n",
       "      <td>1</td>\n",
       "      <td>0</td>\n",
       "      <td>1</td>\n",
       "      <td>0</td>\n",
       "      <td>0</td>\n",
       "      <td>1</td>\n",
       "      <td>0</td>\n",
       "      <td>0</td>\n",
       "      <td>0</td>\n",
       "      <td>0</td>\n",
       "      <td>1</td>\n",
       "      <td>0</td>\n",
       "      <td>1</td>\n",
       "      <td>0</td>\n",
       "    </tr>\n",
       "    <tr>\n",
       "      <th>8</th>\n",
       "      <td>81.0</td>\n",
       "      <td>0</td>\n",
       "      <td>80.43</td>\n",
       "      <td>29.7</td>\n",
       "      <td>1</td>\n",
       "      <td>1</td>\n",
       "      <td>1</td>\n",
       "      <td>0</td>\n",
       "      <td>0</td>\n",
       "      <td>0</td>\n",
       "      <td>1</td>\n",
       "      <td>0</td>\n",
       "      <td>0</td>\n",
       "      <td>0</td>\n",
       "      <td>0</td>\n",
       "      <td>1</td>\n",
       "      <td>0</td>\n",
       "      <td>1</td>\n",
       "      <td>0</td>\n",
       "    </tr>\n",
       "    <tr>\n",
       "      <th>12</th>\n",
       "      <td>50.0</td>\n",
       "      <td>0</td>\n",
       "      <td>167.41</td>\n",
       "      <td>30.9</td>\n",
       "      <td>1</td>\n",
       "      <td>1</td>\n",
       "      <td>1</td>\n",
       "      <td>0</td>\n",
       "      <td>0</td>\n",
       "      <td>0</td>\n",
       "      <td>0</td>\n",
       "      <td>1</td>\n",
       "      <td>0</td>\n",
       "      <td>0</td>\n",
       "      <td>0</td>\n",
       "      <td>1</td>\n",
       "      <td>0</td>\n",
       "      <td>1</td>\n",
       "      <td>0</td>\n",
       "    </tr>\n",
       "    <tr>\n",
       "      <th>14</th>\n",
       "      <td>75.0</td>\n",
       "      <td>0</td>\n",
       "      <td>221.29</td>\n",
       "      <td>25.8</td>\n",
       "      <td>1</td>\n",
       "      <td>1</td>\n",
       "      <td>0</td>\n",
       "      <td>1</td>\n",
       "      <td>0</td>\n",
       "      <td>0</td>\n",
       "      <td>1</td>\n",
       "      <td>0</td>\n",
       "      <td>0</td>\n",
       "      <td>0</td>\n",
       "      <td>0</td>\n",
       "      <td>0</td>\n",
       "      <td>1</td>\n",
       "      <td>0</td>\n",
       "      <td>1</td>\n",
       "    </tr>\n",
       "    <tr>\n",
       "      <th>...</th>\n",
       "      <td>...</td>\n",
       "      <td>...</td>\n",
       "      <td>...</td>\n",
       "      <td>...</td>\n",
       "      <td>...</td>\n",
       "      <td>...</td>\n",
       "      <td>...</td>\n",
       "      <td>...</td>\n",
       "      <td>...</td>\n",
       "      <td>...</td>\n",
       "      <td>...</td>\n",
       "      <td>...</td>\n",
       "      <td>...</td>\n",
       "      <td>...</td>\n",
       "      <td>...</td>\n",
       "      <td>...</td>\n",
       "      <td>...</td>\n",
       "      <td>...</td>\n",
       "      <td>...</td>\n",
       "    </tr>\n",
       "    <tr>\n",
       "      <th>4788</th>\n",
       "      <td>76.0</td>\n",
       "      <td>0</td>\n",
       "      <td>267.60</td>\n",
       "      <td>30.5</td>\n",
       "      <td>0</td>\n",
       "      <td>1</td>\n",
       "      <td>0</td>\n",
       "      <td>1</td>\n",
       "      <td>0</td>\n",
       "      <td>0</td>\n",
       "      <td>1</td>\n",
       "      <td>0</td>\n",
       "      <td>0</td>\n",
       "      <td>0</td>\n",
       "      <td>0</td>\n",
       "      <td>1</td>\n",
       "      <td>0</td>\n",
       "      <td>1</td>\n",
       "      <td>0</td>\n",
       "    </tr>\n",
       "    <tr>\n",
       "      <th>4791</th>\n",
       "      <td>64.0</td>\n",
       "      <td>0</td>\n",
       "      <td>196.26</td>\n",
       "      <td>34.5</td>\n",
       "      <td>0</td>\n",
       "      <td>1</td>\n",
       "      <td>0</td>\n",
       "      <td>1</td>\n",
       "      <td>0</td>\n",
       "      <td>0</td>\n",
       "      <td>1</td>\n",
       "      <td>0</td>\n",
       "      <td>0</td>\n",
       "      <td>1</td>\n",
       "      <td>0</td>\n",
       "      <td>0</td>\n",
       "      <td>0</td>\n",
       "      <td>1</td>\n",
       "      <td>0</td>\n",
       "    </tr>\n",
       "    <tr>\n",
       "      <th>4890</th>\n",
       "      <td>64.0</td>\n",
       "      <td>0</td>\n",
       "      <td>76.89</td>\n",
       "      <td>30.2</td>\n",
       "      <td>0</td>\n",
       "      <td>1</td>\n",
       "      <td>1</td>\n",
       "      <td>0</td>\n",
       "      <td>0</td>\n",
       "      <td>0</td>\n",
       "      <td>0</td>\n",
       "      <td>1</td>\n",
       "      <td>0</td>\n",
       "      <td>1</td>\n",
       "      <td>0</td>\n",
       "      <td>0</td>\n",
       "      <td>0</td>\n",
       "      <td>0</td>\n",
       "      <td>1</td>\n",
       "    </tr>\n",
       "    <tr>\n",
       "      <th>4893</th>\n",
       "      <td>59.0</td>\n",
       "      <td>0</td>\n",
       "      <td>95.05</td>\n",
       "      <td>30.9</td>\n",
       "      <td>0</td>\n",
       "      <td>1</td>\n",
       "      <td>0</td>\n",
       "      <td>1</td>\n",
       "      <td>0</td>\n",
       "      <td>0</td>\n",
       "      <td>1</td>\n",
       "      <td>0</td>\n",
       "      <td>0</td>\n",
       "      <td>0</td>\n",
       "      <td>0</td>\n",
       "      <td>1</td>\n",
       "      <td>0</td>\n",
       "      <td>1</td>\n",
       "      <td>0</td>\n",
       "    </tr>\n",
       "    <tr>\n",
       "      <th>4900</th>\n",
       "      <td>82.0</td>\n",
       "      <td>0</td>\n",
       "      <td>71.97</td>\n",
       "      <td>28.3</td>\n",
       "      <td>0</td>\n",
       "      <td>1</td>\n",
       "      <td>0</td>\n",
       "      <td>1</td>\n",
       "      <td>0</td>\n",
       "      <td>0</td>\n",
       "      <td>0</td>\n",
       "      <td>1</td>\n",
       "      <td>0</td>\n",
       "      <td>0</td>\n",
       "      <td>0</td>\n",
       "      <td>1</td>\n",
       "      <td>0</td>\n",
       "      <td>1</td>\n",
       "      <td>0</td>\n",
       "    </tr>\n",
       "  </tbody>\n",
       "</table>\n",
       "<p>451 rows × 19 columns</p>\n",
       "</div>"
      ],
      "text/plain": [
       "       age  heart_disease  avg_glucose_level   bmi  stroke  marriage  \\\n",
       "3     79.0              0             174.12  24.0       1         1   \n",
       "5     74.0              1              70.09  27.4       1         1   \n",
       "8     81.0              0              80.43  29.7       1         1   \n",
       "12    50.0              0             167.41  30.9       1         1   \n",
       "14    75.0              0             221.29  25.8       1         1   \n",
       "...    ...            ...                ...   ...     ...       ...   \n",
       "4788  76.0              0             267.60  30.5       0         1   \n",
       "4791  64.0              0             196.26  34.5       0         1   \n",
       "4890  64.0              0              76.89  30.2       0         1   \n",
       "4893  59.0              0              95.05  30.9       0         1   \n",
       "4900  82.0              0              71.97  28.3       0         1   \n",
       "\n",
       "      Gender_Female  Gender_Male  Work_Govt_job  Work_Never_worked  \\\n",
       "3                 1            0              0                  0   \n",
       "5                 0            1              0                  0   \n",
       "8                 1            0              0                  0   \n",
       "12                1            0              0                  0   \n",
       "14                0            1              0                  0   \n",
       "...             ...          ...            ...                ...   \n",
       "4788              0            1              0                  0   \n",
       "4791              0            1              0                  0   \n",
       "4890              1            0              0                  0   \n",
       "4893              0            1              0                  0   \n",
       "4900              0            1              0                  0   \n",
       "\n",
       "      Work_Private  Work_Self-employed  Work_children  smoking_Unknown  \\\n",
       "3                0                   1              0                0   \n",
       "5                1                   0              0                0   \n",
       "8                1                   0              0                0   \n",
       "12               0                   1              0                0   \n",
       "14               1                   0              0                0   \n",
       "...            ...                 ...            ...              ...   \n",
       "4788             1                   0              0                0   \n",
       "4791             1                   0              0                1   \n",
       "4890             0                   1              0                1   \n",
       "4893             1                   0              0                0   \n",
       "4900             0                   1              0                0   \n",
       "\n",
       "      smoking_formerly smoked  smoking_never smoked  smoking_smokes  \\\n",
       "3                           0                     1               0   \n",
       "5                           0                     1               0   \n",
       "8                           0                     1               0   \n",
       "12                          0                     1               0   \n",
       "14                          0                     0               1   \n",
       "...                       ...                   ...             ...   \n",
       "4788                        0                     1               0   \n",
       "4791                        0                     0               0   \n",
       "4890                        0                     0               0   \n",
       "4893                        0                     1               0   \n",
       "4900                        0                     1               0   \n",
       "\n",
       "      Residence_Rural  Residence_Urban  \n",
       "3                   1                0  \n",
       "5                   1                0  \n",
       "8                   1                0  \n",
       "12                  1                0  \n",
       "14                  0                1  \n",
       "...               ...              ...  \n",
       "4788                1                0  \n",
       "4791                1                0  \n",
       "4890                0                1  \n",
       "4893                1                0  \n",
       "4900                1                0  \n",
       "\n",
       "[451 rows x 19 columns]"
      ]
     },
     "execution_count": 8,
     "metadata": {},
     "output_type": "execute_result"
    }
   ],
   "source": [
    "df_1 = df[df['hypertension'] == 1]\n",
    "df_1 = df_1.drop(columns = ['hypertension'])\n",
    "df_1"
   ]
  },
  {
   "cell_type": "code",
   "execution_count": 9,
   "id": "a80fb9c6",
   "metadata": {
    "scrolled": true
   },
   "outputs": [],
   "source": [
    "y_0 = df_0['stroke']\n",
    "x_0 = df_0.drop(columns = ['stroke'])"
   ]
  },
  {
   "cell_type": "code",
   "execution_count": 10,
   "id": "c2612ba0",
   "metadata": {},
   "outputs": [],
   "source": [
    "y_1 = df_1['stroke']\n",
    "x_1 = df_1.drop(columns = ['stroke'])"
   ]
  },
  {
   "cell_type": "code",
   "execution_count": 11,
   "id": "8bfa4273",
   "metadata": {},
   "outputs": [],
   "source": [
    "from sklearn.ensemble import RandomForestClassifier\n",
    "from sklearn.model_selection import GridSearchCV\n",
    "from sklearn.model_selection import cross_val_score\n",
    "import matplotlib.pyplot as plt"
   ]
  },
  {
   "cell_type": "markdown",
   "id": "445966eb",
   "metadata": {},
   "source": [
    "# Model for controlled group"
   ]
  },
  {
   "cell_type": "code",
   "execution_count": 12,
   "id": "2250af41",
   "metadata": {},
   "outputs": [
    {
     "data": {
      "text/plain": [
       "0.9654479523687296"
      ]
     },
     "execution_count": 12,
     "metadata": {},
     "output_type": "execute_result"
    }
   ],
   "source": [
    "rfc = RandomForestClassifier(random_state=60)\n",
    "score_pre_0 = cross_val_score(rfc,x_0,y_0,cv=5).mean()\n",
    "score_pre_0"
   ]
  },
  {
   "cell_type": "code",
   "execution_count": 13,
   "id": "75951716",
   "metadata": {},
   "outputs": [
    {
     "name": "stdout",
     "output_type": "stream",
     "text": [
      "0.9663450649997735 151\n"
     ]
    },
    {
     "data": {
      "image/png": "[encoded data removed]",
      "text/plain": [
       "<Figure size 1440x360 with 1 Axes>"
      ]
     },
     "metadata": {
      "needs_background": "light"
     },
     "output_type": "display_data"
    }
   ],
   "source": [
    "scorel = []\n",
    "for i in range(0,200,10):\n",
    "    rfc = RandomForestClassifier(n_estimators=i+1,\n",
    "                                 n_jobs=-1,\n",
    "                                random_state=60)\n",
    "    score = cross_val_score(rfc,x_0,y_0,cv=5).mean()\n",
    "    scorel.append(score)\n",
    "\n",
    "print(max(scorel),(scorel.index(max(scorel))*10)+1)\n",
    "plt.figure(figsize=[20,5])\n",
    "plt.plot(range(1,201,10),scorel)\n",
    "plt.show()"
   ]
  },
  {
   "cell_type": "code",
   "execution_count": 14,
   "id": "50caa82a",
   "metadata": {},
   "outputs": [
    {
     "name": "stdout",
     "output_type": "stream",
     "text": [
      "0.9663450649997735 150\n"
     ]
    },
    {
     "data": {
      "image/png": "[encoded data removed]",
      "text/plain": [
       "<Figure size 4320x1440 with 1 Axes>"
      ]
     },
     "metadata": {
      "needs_background": "light"
     },
     "output_type": "display_data"
    }
   ],
   "source": [
    "scorel = []\n",
    "for i in range(130,170):\n",
    "    rfc = RandomForestClassifier(n_estimators=i+1,\n",
    "                                 n_jobs=-1,\n",
    "                                random_state=60)\n",
    "    score = cross_val_score(rfc,x_0,y_0,cv=5).mean()\n",
    "    scorel.append(score)\n",
    "\n",
    "print(max(scorel),([*range(130,170)][scorel.index(max(scorel))]))\n",
    "plt.figure(figsize=[60,20])\n",
    "plt.plot(range(130,170),scorel)\n",
    "plt.show()"
   ]
  },
  {
   "cell_type": "code",
   "execution_count": 15,
   "id": "b5fc99af",
   "metadata": {
    "scrolled": true
   },
   "outputs": [
    {
     "data": {
      "text/plain": [
       "GridSearchCV(cv=5,\n",
       "             estimator=RandomForestClassifier(n_estimators=150,\n",
       "                                              random_state=60),\n",
       "             param_grid={'max_depth': array([ 1,  2,  3,  4,  5,  6,  7,  8,  9, 10, 11, 12, 13, 14, 15, 16, 17,\n",
       "       18, 19, 20, 21, 22, 23, 24, 25, 26, 27, 28, 29])})"
      ]
     },
     "execution_count": 15,
     "metadata": {},
     "output_type": "execute_result"
    }
   ],
   "source": [
    "param_grid = {'max_depth':np.arange(1, 30, 1)}\n",
    "rfc = RandomForestClassifier(n_estimators=150\n",
    "                             ,random_state=60\n",
    "                             )\n",
    "GS = GridSearchCV(rfc,param_grid,cv=5)\n",
    "GS.fit(x_0,y_0)"
   ]
  },
  {
   "cell_type": "code",
   "execution_count": 16,
   "id": "35099b1a",
   "metadata": {},
   "outputs": [
    {
     "data": {
      "text/plain": [
       "{'max_depth': 1}"
      ]
     },
     "execution_count": 16,
     "metadata": {},
     "output_type": "execute_result"
    }
   ],
   "source": [
    "GS.best_params_"
   ]
  },
  {
   "cell_type": "code",
   "execution_count": 17,
   "id": "56a53ca6",
   "metadata": {},
   "outputs": [
    {
     "data": {
      "text/plain": [
       "0.9665695318909071"
      ]
     },
     "execution_count": 17,
     "metadata": {},
     "output_type": "execute_result"
    }
   ],
   "source": [
    "GS.best_score_"
   ]
  },
  {
   "cell_type": "code",
   "execution_count": 18,
   "id": "d8438727",
   "metadata": {},
   "outputs": [
    {
     "data": {
      "text/plain": [
       "GridSearchCV(cv=5,\n",
       "             estimator=RandomForestClassifier(n_estimators=150,\n",
       "                                              random_state=60),\n",
       "             param_grid={'max_features': array([ 1,  2,  3,  4,  5,  6,  7,  8,  9, 10, 11, 12, 13, 14, 15, 16, 17,\n",
       "       18, 19])})"
      ]
     },
     "execution_count": 18,
     "metadata": {},
     "output_type": "execute_result"
    }
   ],
   "source": [
    "param_grid = {'max_features':np.arange(1,20,1)}\n",
    "rfc = RandomForestClassifier(n_estimators=150\n",
    "                             ,random_state=60\n",
    "                             )\n",
    "GS = GridSearchCV(rfc,param_grid,cv=5)\n",
    "GS.fit(x_0,y_0)"
   ]
  },
  {
   "cell_type": "code",
   "execution_count": 19,
   "id": "a2ce1964",
   "metadata": {},
   "outputs": [
    {
     "data": {
      "text/plain": [
       "{'max_features': 4}"
      ]
     },
     "execution_count": 19,
     "metadata": {},
     "output_type": "execute_result"
    }
   ],
   "source": [
    "GS.best_params_"
   ]
  },
  {
   "cell_type": "code",
   "execution_count": 20,
   "id": "61f4ca98",
   "metadata": {},
   "outputs": [
    {
     "data": {
      "text/plain": [
       "0.9661208497531367"
      ]
     },
     "execution_count": 20,
     "metadata": {},
     "output_type": "execute_result"
    }
   ],
   "source": [
    "GS.best_score_"
   ]
  },
  {
   "cell_type": "code",
   "execution_count": 21,
   "id": "041a4745",
   "metadata": {},
   "outputs": [
    {
     "data": {
      "text/plain": [
       "GridSearchCV(cv=5,\n",
       "             estimator=RandomForestClassifier(n_estimators=150,\n",
       "                                              random_state=60),\n",
       "             param_grid={'min_samples_leaf': array([ 1,  2,  3,  4,  5,  6,  7,  8,  9, 10, 11, 12, 13, 14, 15, 16, 17,\n",
       "       18, 19])})"
      ]
     },
     "execution_count": 21,
     "metadata": {},
     "output_type": "execute_result"
    }
   ],
   "source": [
    "param_grid={'min_samples_leaf':np.arange(1, 20, 1)}\n",
    "rfc = RandomForestClassifier(n_estimators=150\n",
    "                             ,random_state=60\n",
    "                             )\n",
    "GS = GridSearchCV(rfc,param_grid,cv=5)\n",
    "GS.fit(x_0,y_0)"
   ]
  },
  {
   "cell_type": "code",
   "execution_count": 22,
   "id": "69b5605a",
   "metadata": {},
   "outputs": [
    {
     "data": {
      "text/plain": [
       "{'min_samples_leaf': 2}"
      ]
     },
     "execution_count": 22,
     "metadata": {},
     "output_type": "execute_result"
    }
   ],
   "source": [
    "GS.best_params_"
   ]
  },
  {
   "cell_type": "code",
   "execution_count": 23,
   "id": "7e6e4d3d",
   "metadata": {},
   "outputs": [
    {
     "data": {
      "text/plain": [
       "0.9665695318909071"
      ]
     },
     "execution_count": 23,
     "metadata": {},
     "output_type": "execute_result"
    }
   ],
   "source": [
    "GS.best_score_"
   ]
  },
  {
   "cell_type": "code",
   "execution_count": 24,
   "id": "d577bcce",
   "metadata": {},
   "outputs": [
    {
     "data": {
      "text/plain": [
       "GridSearchCV(cv=5,\n",
       "             estimator=RandomForestClassifier(n_estimators=150,\n",
       "                                              random_state=60),\n",
       "             param_grid={'min_samples_split': array([ 2,  3,  4,  5,  6,  7,  8,  9, 10, 11, 12, 13, 14, 15, 16, 17, 18,\n",
       "       19, 20, 21])})"
      ]
     },
     "execution_count": 24,
     "metadata": {},
     "output_type": "execute_result"
    }
   ],
   "source": [
    "param_grid={'min_samples_split':np.arange(2, 2+20, 1)}\n",
    "rfc = RandomForestClassifier(n_estimators=150\n",
    "                             ,random_state=60\n",
    "                             )\n",
    "GS = GridSearchCV(rfc,param_grid,cv=5)\n",
    "GS.fit(x_0,y_0)"
   ]
  },
  {
   "cell_type": "code",
   "execution_count": 25,
   "id": "fff77457",
   "metadata": {},
   "outputs": [
    {
     "data": {
      "text/plain": [
       "{'min_samples_split': 6}"
      ]
     },
     "execution_count": 25,
     "metadata": {},
     "output_type": "execute_result"
    }
   ],
   "source": [
    "GS.best_params_"
   ]
  },
  {
   "cell_type": "code",
   "execution_count": 26,
   "id": "5315b785",
   "metadata": {},
   "outputs": [
    {
     "data": {
      "text/plain": [
       "0.9665695318909071"
      ]
     },
     "execution_count": 26,
     "metadata": {},
     "output_type": "execute_result"
    }
   ],
   "source": [
    "GS.best_score_"
   ]
  },
  {
   "cell_type": "code",
   "execution_count": 27,
   "id": "35d5a303",
   "metadata": {},
   "outputs": [
    {
     "data": {
      "text/plain": [
       "0.9665695318909071"
      ]
     },
     "execution_count": 27,
     "metadata": {},
     "output_type": "execute_result"
    }
   ],
   "source": [
    "rfc_0 = RandomForestClassifier(n_estimators=150,max_depth = 1,random_state=60)\n",
    "score_0 = cross_val_score(rfc_0,x_0,y_0,cv=5).mean()\n",
    "score_0"
   ]
  },
  {
   "cell_type": "code",
   "execution_count": 28,
   "id": "625befab",
   "metadata": {},
   "outputs": [
    {
     "data": {
      "text/plain": [
       "0.0011215795221775071"
      ]
     },
     "execution_count": 28,
     "metadata": {},
     "output_type": "execute_result"
    }
   ],
   "source": [
    "score_0 - score_pre_0"
   ]
  },
  {
   "cell_type": "markdown",
   "id": "46d8b047",
   "metadata": {},
   "source": [
    "# Model for treatment group"
   ]
  },
  {
   "cell_type": "code",
   "execution_count": 29,
   "id": "118c2d19",
   "metadata": {},
   "outputs": [
    {
     "data": {
      "text/plain": [
       "0.8581196581196581"
      ]
     },
     "execution_count": 29,
     "metadata": {},
     "output_type": "execute_result"
    }
   ],
   "source": [
    "rfc = RandomForestClassifier(n_estimators=100,random_state=90)\n",
    "score_pre_1 = cross_val_score(rfc,x_1,y_1,cv=5).mean()\n",
    "score_pre_1"
   ]
  },
  {
   "cell_type": "code",
   "execution_count": 30,
   "id": "518fd43e",
   "metadata": {},
   "outputs": [
    {
     "name": "stdout",
     "output_type": "stream",
     "text": [
      "0.8581196581196581 101\n"
     ]
    },
    {
     "data": {
      "image/png": "[encoded data removed]",
      "text/plain": [
       "<Figure size 1440x360 with 1 Axes>"
      ]
     },
     "metadata": {
      "needs_background": "light"
     },
     "output_type": "display_data"
    }
   ],
   "source": [
    "scorel = []\n",
    "for i in range(0,200,10):\n",
    "    rfc = RandomForestClassifier(n_estimators=i+1,\n",
    "                                 n_jobs=-1,\n",
    "                                random_state=80)\n",
    "    score = cross_val_score(rfc,x_1,y_1,cv=5).mean()\n",
    "    scorel.append(score)\n",
    "\n",
    "print(max(scorel),(scorel.index(max(scorel))*10)+1)\n",
    "plt.figure(figsize=[20,5])\n",
    "plt.plot(range(0,200,10),scorel)\n",
    "plt.show()"
   ]
  },
  {
   "cell_type": "code",
   "execution_count": 31,
   "id": "a20f6b17",
   "metadata": {},
   "outputs": [
    {
     "name": "stdout",
     "output_type": "stream",
     "text": [
      "0.8581196581196581 84\n"
     ]
    },
    {
     "data": {
      "image/png": "[encoded data removed]",
      "text/plain": [
       "<Figure size 1440x360 with 1 Axes>"
      ]
     },
     "metadata": {
      "needs_background": "light"
     },
     "output_type": "display_data"
    }
   ],
   "source": [
    "scorel = []\n",
    "for i in range(70,130):\n",
    "    rfc = RandomForestClassifier(n_estimators=i+1,\n",
    "                                 n_jobs=-1,\n",
    "                                random_state=80)\n",
    "    score = cross_val_score(rfc,x_1,y_1,cv=5).mean()\n",
    "    scorel.append(score)\n",
    "\n",
    "print(max(scorel),([*range(70,130)][scorel.index(max(scorel))]))\n",
    "plt.figure(figsize=[20,5])\n",
    "plt.plot(range(70,130),scorel)\n",
    "plt.show()"
   ]
  },
  {
   "cell_type": "code",
   "execution_count": 32,
   "id": "2e791d5b",
   "metadata": {
    "scrolled": true
   },
   "outputs": [
    {
     "data": {
      "text/plain": [
       "GridSearchCV(cv=5, estimator=RandomForestClassifier(random_state=80),\n",
       "             param_grid={'max_depth': array([ 1,  2,  3,  4,  5,  6,  7,  8,  9, 10, 11, 12, 13, 14, 15, 16, 17,\n",
       "       18, 19, 20, 21, 22, 23, 24, 25, 26, 27, 28, 29])})"
      ]
     },
     "execution_count": 32,
     "metadata": {},
     "output_type": "execute_result"
    }
   ],
   "source": [
    "param_grid = {'max_depth':np.arange(1, 30, 1)}\n",
    "rfc = RandomForestClassifier(n_estimators=100\n",
    "                             ,random_state=80\n",
    "                             )\n",
    "GS = GridSearchCV(rfc,param_grid,cv=5)\n",
    "GS.fit(x_1,y_1)"
   ]
  },
  {
   "cell_type": "code",
   "execution_count": 33,
   "id": "8e4fe8c1",
   "metadata": {},
   "outputs": [
    {
     "data": {
      "text/plain": [
       "{'max_depth': 1}"
      ]
     },
     "execution_count": 33,
     "metadata": {},
     "output_type": "execute_result"
    }
   ],
   "source": [
    "GS.best_params_"
   ]
  },
  {
   "cell_type": "code",
   "execution_count": 34,
   "id": "ed762c26",
   "metadata": {},
   "outputs": [
    {
     "data": {
      "text/plain": [
       "0.866959706959707"
      ]
     },
     "execution_count": 34,
     "metadata": {},
     "output_type": "execute_result"
    }
   ],
   "source": [
    "GS.best_score_"
   ]
  },
  {
   "cell_type": "code",
   "execution_count": 35,
   "id": "e4d62d19",
   "metadata": {},
   "outputs": [
    {
     "data": {
      "text/plain": [
       "GridSearchCV(cv=5, estimator=RandomForestClassifier(random_state=80),\n",
       "             param_grid={'max_features': array([ 1,  2,  3,  4,  5,  6,  7,  8,  9, 10, 11, 12, 13, 14, 15, 16, 17,\n",
       "       18, 19])})"
      ]
     },
     "execution_count": 35,
     "metadata": {},
     "output_type": "execute_result"
    }
   ],
   "source": [
    "param_grid = {'max_features':np.arange(1,20,1)}\n",
    "rfc = RandomForestClassifier(n_estimators=100\n",
    "                             ,random_state=80\n",
    "                             )\n",
    "GS = GridSearchCV(rfc,param_grid,cv=5)\n",
    "GS.fit(x_1,y_1)"
   ]
  },
  {
   "cell_type": "code",
   "execution_count": 36,
   "id": "5b8d2a7f",
   "metadata": {},
   "outputs": [
    {
     "data": {
      "text/plain": [
       "{'max_features': 6}"
      ]
     },
     "execution_count": 36,
     "metadata": {},
     "output_type": "execute_result"
    }
   ],
   "source": [
    "GS.best_params_"
   ]
  },
  {
   "cell_type": "code",
   "execution_count": 37,
   "id": "044f4cfa",
   "metadata": {},
   "outputs": [
    {
     "data": {
      "text/plain": [
       "0.8603174603174603"
      ]
     },
     "execution_count": 37,
     "metadata": {},
     "output_type": "execute_result"
    }
   ],
   "source": [
    "GS.best_score_"
   ]
  },
  {
   "cell_type": "code",
   "execution_count": 38,
   "id": "5b9afecb",
   "metadata": {},
   "outputs": [
    {
     "data": {
      "text/plain": [
       "GridSearchCV(cv=5, estimator=RandomForestClassifier(random_state=80),\n",
       "             param_grid={'min_samples_leaf': array([ 1,  2,  3,  4,  5,  6,  7,  8,  9, 10, 11, 12, 13, 14, 15, 16, 17,\n",
       "       18, 19])})"
      ]
     },
     "execution_count": 38,
     "metadata": {},
     "output_type": "execute_result"
    }
   ],
   "source": [
    "param_grid={'min_samples_leaf':np.arange(1, 20, 1)}\n",
    "rfc = RandomForestClassifier(n_estimators=100\n",
    "                             ,random_state=80\n",
    "                             )\n",
    "GS = GridSearchCV(rfc,param_grid,cv=5)\n",
    "GS.fit(x_1,y_1)"
   ]
  },
  {
   "cell_type": "code",
   "execution_count": 39,
   "id": "d06c6f38",
   "metadata": {},
   "outputs": [
    {
     "data": {
      "text/plain": [
       "{'min_samples_leaf': 3}"
      ]
     },
     "execution_count": 39,
     "metadata": {},
     "output_type": "execute_result"
    }
   ],
   "source": [
    "GS.best_params_"
   ]
  },
  {
   "cell_type": "code",
   "execution_count": 40,
   "id": "b877f4a3",
   "metadata": {},
   "outputs": [
    {
     "data": {
      "text/plain": [
       "0.866959706959707"
      ]
     },
     "execution_count": 40,
     "metadata": {},
     "output_type": "execute_result"
    }
   ],
   "source": [
    "GS.best_score_"
   ]
  },
  {
   "cell_type": "code",
   "execution_count": 41,
   "id": "5d217c08",
   "metadata": {},
   "outputs": [
    {
     "data": {
      "text/plain": [
       "GridSearchCV(cv=5, estimator=RandomForestClassifier(random_state=80),\n",
       "             param_grid={'min_samples_split': array([ 2,  3,  4,  5,  6,  7,  8,  9, 10, 11, 12, 13, 14, 15, 16, 17, 18,\n",
       "       19, 20, 21])})"
      ]
     },
     "execution_count": 41,
     "metadata": {},
     "output_type": "execute_result"
    }
   ],
   "source": [
    "param_grid={'min_samples_split':np.arange(2, 2+20, 1)}\n",
    "rfc = RandomForestClassifier(n_estimators=100\n",
    "                             ,random_state=80\n",
    "                             )\n",
    "GS = GridSearchCV(rfc,param_grid,cv=5)\n",
    "GS.fit(x_1,y_1)"
   ]
  },
  {
   "cell_type": "code",
   "execution_count": 42,
   "id": "41f2c63b",
   "metadata": {},
   "outputs": [
    {
     "data": {
      "text/plain": [
       "{'min_samples_split': 6}"
      ]
     },
     "execution_count": 42,
     "metadata": {},
     "output_type": "execute_result"
    }
   ],
   "source": [
    "GS.best_params_"
   ]
  },
  {
   "cell_type": "code",
   "execution_count": 43,
   "id": "4d44cd8d",
   "metadata": {},
   "outputs": [
    {
     "data": {
      "text/plain": [
       "0.8691819291819293"
      ]
     },
     "execution_count": 43,
     "metadata": {},
     "output_type": "execute_result"
    }
   ],
   "source": [
    "GS.best_score_"
   ]
  },
  {
   "cell_type": "code",
   "execution_count": 44,
   "id": "0d8cb3a2",
   "metadata": {},
   "outputs": [
    {
     "data": {
      "text/plain": [
       "0.866959706959707"
      ]
     },
     "execution_count": 44,
     "metadata": {},
     "output_type": "execute_result"
    }
   ],
   "source": [
    "rfc_1 = RandomForestClassifier(n_estimators=100,max_depth = 1, random_state=80)\n",
    "score_1 = cross_val_score(rfc_1,x_1,y_1,cv=5).mean()\n",
    "score_1"
   ]
  },
  {
   "cell_type": "code",
   "execution_count": 45,
   "id": "e6311425",
   "metadata": {},
   "outputs": [
    {
     "data": {
      "text/plain": [
       "0.008840048840048964"
      ]
     },
     "execution_count": 45,
     "metadata": {},
     "output_type": "execute_result"
    }
   ],
   "source": [
    "score_1 - score_pre_1"
   ]
  },
  {
   "cell_type": "markdown",
   "id": "5dee8914",
   "metadata": {},
   "source": [
    "# Outcome modeling"
   ]
  },
  {
   "cell_type": "code",
   "execution_count": 46,
   "id": "7823ba7c",
   "metadata": {},
   "outputs": [],
   "source": [
    "from scipy import stats\n",
    "import scipy.stats"
   ]
  },
  {
   "cell_type": "code",
   "execution_count": 47,
   "id": "727458a0",
   "metadata": {},
   "outputs": [],
   "source": [
    "rfc0 = rfc_0.fit(x_0, y_0)"
   ]
  },
  {
   "cell_type": "code",
   "execution_count": 48,
   "id": "7a4faaa8",
   "metadata": {},
   "outputs": [
    {
     "data": {
      "text/plain": [
       "0.0"
      ]
     },
     "execution_count": 48,
     "metadata": {},
     "output_type": "execute_result"
    }
   ],
   "source": [
    "predict_0 = rfc0.predict(X)\n",
    "mean_0 = predict_0.mean()\n",
    "mean_0"
   ]
  },
  {
   "cell_type": "code",
   "execution_count": 49,
   "id": "a7806102",
   "metadata": {},
   "outputs": [],
   "source": [
    "rfc1 = rfc_1.fit(x_1, y_1)"
   ]
  },
  {
   "cell_type": "code",
   "execution_count": 50,
   "id": "39676bf5",
   "metadata": {},
   "outputs": [
    {
     "data": {
      "text/plain": [
       "0.0"
      ]
     },
     "execution_count": 50,
     "metadata": {},
     "output_type": "execute_result"
    }
   ],
   "source": [
    "predict_1 = rfc1.predict(X)\n",
    "mean_1 = predict_1.mean()\n",
    "mean_1"
   ]
  },
  {
   "cell_type": "code",
   "execution_count": 51,
   "id": "20398cf5",
   "metadata": {},
   "outputs": [
    {
     "data": {
      "text/plain": [
       "0.0"
      ]
     },
     "execution_count": 51,
     "metadata": {},
     "output_type": "execute_result"
    }
   ],
   "source": [
    "ATE_outcome = mean_1 - mean_0\n",
    "ATE_outcome"
   ]
  },
  {
   "cell_type": "code",
   "execution_count": 52,
   "id": "21fca7c2",
   "metadata": {},
   "outputs": [
    {
     "name": "stdout",
     "output_type": "stream",
     "text": [
      "nan nan\n"
     ]
    }
   ],
   "source": [
    "t,pval = scipy.stats.ttest_ind(predict_0,predict_1,equal_var=False,alternative='less')\n",
    "print(t,pval)"
   ]
  }
 ],
 "metadata": {
  "kernelspec": {
   "display_name": "Python 3 (ipykernel)",
   "language": "python",
   "name": "python3"
  },
  "language_info": {
   "codemirror_mode": {
    "name": "ipython",
    "version": 3
   },
   "file_extension": ".py",
   "mimetype": "text/x-python",
   "name": "python",
   "nbconvert_exporter": "python",
   "pygments_lexer": "ipython3",
   "version": "3.9.12"
  }
 },
 "nbformat": 4,
 "nbformat_minor": 5
}
